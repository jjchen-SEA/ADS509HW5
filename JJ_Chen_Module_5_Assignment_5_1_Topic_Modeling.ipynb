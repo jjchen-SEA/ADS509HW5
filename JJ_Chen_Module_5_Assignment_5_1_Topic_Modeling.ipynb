{
  "cells": [
    {
      "cell_type": "markdown",
      "id": "bce2bb89",
      "metadata": {
        "id": "bce2bb89"
      },
      "source": [
        "# ADS 509 Assignment 5.1: Topic Modeling\n",
        "\n",
        "This notebook holds Assignment 5.1 for Module 5 in ADS 509, Applied Text Mining. Work through this notebook, writing code and answering questions where required. \n",
        "\n",
        "In this assignment you will work with a categorical corpus that accompanies `nltk`. You will build the three types of topic models described in Chapter 8 of _Blueprints for Text Analytics using Python_: NMF, LSA, and LDA. You will compare these models to the true categories. \n"
      ]
    },
    {
      "cell_type": "markdown",
      "id": "d87e2c06",
      "metadata": {
        "id": "d87e2c06"
      },
      "source": [
        "## General Assignment Instructions\n",
        "\n",
        "These instructions are included in every assignment, to remind you of the coding standards for the class. Feel free to delete this cell after reading it. \n",
        "\n",
        "One sign of mature code is conforming to a style guide. We recommend the [Google Python Style Guide](https://google.github.io/styleguide/pyguide.html). If you use a different style guide, please include a cell with a link. \n",
        "\n",
        "Your code should be relatively easy-to-read, sensibly commented, and clean. Writing code is a messy process, so please be sure to edit your final submission. Remove any cells that are not needed or parts of cells that contain unnecessary code. Remove inessential `import` statements and make sure that all such statements are moved into the designated cell. \n",
        "\n",
        "Make use of non-code cells for written commentary. These cells should be grammatical and clearly written. In some of these cells you will have questions to answer. The questions will be marked by a \"Q:\" and will have a corresponding \"A:\" spot for you. *Make sure to answer every question marked with a `Q:` for full credit.* \n"
      ]
    },
    {
      "cell_type": "code",
      "execution_count": 1,
      "id": "a85bce08",
      "metadata": {
        "id": "a85bce08"
      },
      "outputs": [],
      "source": [
        "# These libraries may be useful to you\n",
        "\n",
        "#!pip install pyLDAvis==3.4.1 --user  #You need to restart the Kernel after installation.\n",
        "# You also need a Python version => 3.9.0\n",
        "from nltk.corpus import brown\n",
        "\n",
        "import numpy as np\n",
        "import pandas as pd\n",
        "from tqdm.auto import tqdm\n",
        "\n",
        "import pyLDAvis\n",
        "import pyLDAvis.lda_model\n",
        "import pyLDAvis.gensim_models\n",
        "\n",
        "import spacy\n",
        "from sklearn.feature_extraction.text import TfidfVectorizer, CountVectorizer\n",
        "from sklearn.decomposition import NMF, TruncatedSVD, LatentDirichletAllocation\n",
        "\n",
        "from spacy.lang.en.stop_words import STOP_WORDS as stopwords\n",
        "\n",
        "from collections import Counter, defaultdict\n",
        "\n",
        "nlp = spacy.load('en_core_web_sm')"
      ]
    },
    {
      "cell_type": "code",
      "source": [
        "# !pip install pyLDAvis"
      ],
      "metadata": {
        "colab": {
          "base_uri": "https://localhost:8080/"
        },
        "id": "jQRDH4ucS0l4",
        "outputId": "5adec478-d3f2-4a54-d8a0-e595d8c716a0"
      },
      "id": "jQRDH4ucS0l4",
      "execution_count": 2,
      "outputs": [
        {
          "output_type": "stream",
          "name": "stderr",
          "text": [
            "/usr/local/lib/python3.10/dist-packages/ipykernel/ipkernel.py:283: DeprecationWarning: `should_run_async` will not call `transform_cell` automatically in the future. Please pass the result to `transformed_cell` argument and any exception that happen during thetransform in `preprocessing_exc_tuple` in IPython 7.17 and above.\n",
            "  and should_run_async(code)\n"
          ]
        }
      ]
    },
    {
      "cell_type": "code",
      "execution_count": 3,
      "id": "a218df60",
      "metadata": {
        "colab": {
          "base_uri": "https://localhost:8080/"
        },
        "id": "a218df60",
        "outputId": "8b906aaa-0c4e-4a5d-e745-2ca1986c21d7"
      },
      "outputs": [
        {
          "output_type": "stream",
          "name": "stderr",
          "text": [
            "/usr/local/lib/python3.10/dist-packages/ipykernel/ipkernel.py:283: DeprecationWarning: `should_run_async` will not call `transform_cell` automatically in the future. Please pass the result to `transformed_cell` argument and any exception that happen during thetransform in `preprocessing_exc_tuple` in IPython 7.17 and above.\n",
            "  and should_run_async(code)\n",
            "[nltk_data] Downloading package brown to /root/nltk_data...\n",
            "[nltk_data]   Package brown is already up-to-date!\n",
            "/usr/local/lib/python3.10/dist-packages/google/rpc/__init__.py:20: DeprecationWarning: Deprecated call to `pkg_resources.declare_namespace('google.rpc')`.\n",
            "Implementing implicit namespace packages (as specified in PEP 420) is preferred to `pkg_resources.declare_namespace`. See https://setuptools.pypa.io/en/latest/references/keywords.html#keyword-namespace-packages\n",
            "  pkg_resources.declare_namespace(__name__)\n",
            "/usr/local/lib/python3.10/dist-packages/pkg_resources/__init__.py:2349: DeprecationWarning: Deprecated call to `pkg_resources.declare_namespace('google')`.\n",
            "Implementing implicit namespace packages (as specified in PEP 420) is preferred to `pkg_resources.declare_namespace`. See https://setuptools.pypa.io/en/latest/references/keywords.html#keyword-namespace-packages\n",
            "  declare_namespace(parent)\n"
          ]
        }
      ],
      "source": [
        "# add any additional libaries you need here\n",
        "import nltk\n",
        "nltk.download('brown')\n",
        "import matplotlib\n",
        "from gensim.models import LdaModel\n",
        "from gensim import matutils, corpora\n",
        "import gensim\n",
        "\n",
        "%matplotlib inline\n"
      ]
    },
    {
      "cell_type": "code",
      "source": [
        "# !pip uninstall matplotlib\n",
        "# !pip install matplotlib"
      ],
      "metadata": {
        "colab": {
          "base_uri": "https://localhost:8080/"
        },
        "id": "AMj05EWzzdvA",
        "outputId": "faaaf5d5-1cbc-4f33-8c29-652c26639e32"
      },
      "id": "AMj05EWzzdvA",
      "execution_count": 4,
      "outputs": [
        {
          "output_type": "stream",
          "name": "stderr",
          "text": [
            "/usr/local/lib/python3.10/dist-packages/ipykernel/ipkernel.py:283: DeprecationWarning: `should_run_async` will not call `transform_cell` automatically in the future. Please pass the result to `transformed_cell` argument and any exception that happen during thetransform in `preprocessing_exc_tuple` in IPython 7.17 and above.\n",
            "  and should_run_async(code)\n"
          ]
        }
      ]
    },
    {
      "cell_type": "code",
      "execution_count": 5,
      "id": "494de237",
      "metadata": {
        "colab": {
          "base_uri": "https://localhost:8080/"
        },
        "id": "494de237",
        "outputId": "b78b8b8d-0ab6-4fe6-9434-f8c7cef1112c"
      },
      "outputs": [
        {
          "output_type": "stream",
          "name": "stderr",
          "text": [
            "/usr/local/lib/python3.10/dist-packages/ipykernel/ipkernel.py:283: DeprecationWarning: `should_run_async` will not call `transform_cell` automatically in the future. Please pass the result to `transformed_cell` argument and any exception that happen during thetransform in `preprocessing_exc_tuple` in IPython 7.17 and above.\n",
            "  and should_run_async(code)\n"
          ]
        }
      ],
      "source": [
        "# This function comes from the BTAP repo.\n",
        "\n",
        "def display_topics(model, features, no_top_words=5):\n",
        "    for topic, words in enumerate(model.components_):\n",
        "        total = words.sum()\n",
        "        largest = words.argsort()[::-1] # invert sort order\n",
        "        print(\"\\nTopic %02d\" % topic)\n",
        "        for i in range(0, no_top_words):\n",
        "            print(\"  %s (%2.2f)\" % (features[largest[i]], abs(words[largest[i]]*100.0/total)))"
      ]
    },
    {
      "cell_type": "markdown",
      "id": "a30a901c",
      "metadata": {
        "id": "a30a901c"
      },
      "source": [
        "## Getting to Know the Brown Corpus\n",
        "\n",
        "Let's spend a bit of time getting to know what's in the Brown corpus, our NLTK example of an \"overlapping\" corpus."
      ]
    },
    {
      "cell_type": "code",
      "execution_count": 6,
      "id": "457c59ed",
      "metadata": {
        "colab": {
          "base_uri": "https://localhost:8080/"
        },
        "id": "457c59ed",
        "outputId": "a9995112-fc3c-43c1-b9aa-00b7a86a354f"
      },
      "outputs": [
        {
          "output_type": "stream",
          "name": "stdout",
          "text": [
            "For adventure we have 29 articles.\n",
            "For belles_lettres we have 75 articles.\n",
            "For editorial we have 27 articles.\n",
            "For fiction we have 29 articles.\n",
            "For government we have 30 articles.\n",
            "For hobbies we have 36 articles.\n",
            "For humor we have 9 articles.\n",
            "For learned we have 80 articles.\n",
            "For lore we have 48 articles.\n",
            "For mystery we have 24 articles.\n",
            "For news we have 44 articles.\n",
            "For religion we have 17 articles.\n",
            "For reviews we have 17 articles.\n",
            "For romance we have 29 articles.\n",
            "For science_fiction we have 6 articles.\n"
          ]
        },
        {
          "output_type": "stream",
          "name": "stderr",
          "text": [
            "/usr/local/lib/python3.10/dist-packages/ipykernel/ipkernel.py:283: DeprecationWarning: `should_run_async` will not call `transform_cell` automatically in the future. Please pass the result to `transformed_cell` argument and any exception that happen during thetransform in `preprocessing_exc_tuple` in IPython 7.17 and above.\n",
            "  and should_run_async(code)\n"
          ]
        }
      ],
      "source": [
        "# categories of articles in Brown corpus\n",
        "for category in brown.categories() :\n",
        "    print(f\"For {category} we have {len(brown.fileids(categories=category))} articles.\")"
      ]
    },
    {
      "cell_type": "markdown",
      "id": "23fb133c",
      "metadata": {
        "id": "23fb133c"
      },
      "source": [
        "Let's create a dataframe of the articles in of hobbies, editorial, government, news, and romance."
      ]
    },
    {
      "cell_type": "code",
      "execution_count": 7,
      "id": "18f50b9d",
      "metadata": {
        "colab": {
          "base_uri": "https://localhost:8080/"
        },
        "id": "18f50b9d",
        "outputId": "49ada187-f679-4415-dfd3-a0f8bafb448b"
      },
      "outputs": [
        {
          "output_type": "stream",
          "name": "stderr",
          "text": [
            "/usr/local/lib/python3.10/dist-packages/ipykernel/ipkernel.py:283: DeprecationWarning: `should_run_async` will not call `transform_cell` automatically in the future. Please pass the result to `transformed_cell` argument and any exception that happen during thetransform in `preprocessing_exc_tuple` in IPython 7.17 and above.\n",
            "  and should_run_async(code)\n"
          ]
        },
        {
          "output_type": "execute_result",
          "data": {
            "text/plain": [
              "(166, 3)"
            ]
          },
          "metadata": {},
          "execution_count": 7
        }
      ],
      "source": [
        "categories = ['editorial','government','news','romance','hobbies'] \n",
        "\n",
        "category_list = []\n",
        "file_ids = []\n",
        "texts = []\n",
        "\n",
        "for category in categories : \n",
        "    for file_id in brown.fileids(categories=category) :\n",
        "        \n",
        "        # build some lists for a dataframe\n",
        "        category_list.append(category)\n",
        "        file_ids.append(file_id)\n",
        "        \n",
        "        text = brown.words(fileids=file_id)\n",
        "        texts.append(\" \".join(text))\n",
        "\n",
        "        \n",
        "        \n",
        "df = pd.DataFrame()\n",
        "df['category'] = category_list\n",
        "df['id'] = file_ids\n",
        "df['text'] = texts \n",
        "\n",
        "df.shape"
      ]
    },
    {
      "cell_type": "code",
      "execution_count": 8,
      "id": "586f47de",
      "metadata": {
        "colab": {
          "base_uri": "https://localhost:8080/"
        },
        "id": "586f47de",
        "outputId": "f722b514-ef30-45a5-b4f5-acc0ed60e3c4"
      },
      "outputs": [
        {
          "output_type": "stream",
          "name": "stderr",
          "text": [
            "/usr/local/lib/python3.10/dist-packages/ipykernel/ipkernel.py:283: DeprecationWarning: `should_run_async` will not call `transform_cell` automatically in the future. Please pass the result to `transformed_cell` argument and any exception that happen during thetransform in `preprocessing_exc_tuple` in IPython 7.17 and above.\n",
            "  and should_run_async(code)\n"
          ]
        }
      ],
      "source": [
        "# Let's add some helpful columns on the df\n",
        "df['char_len'] = df['text'].apply(len)\n",
        "df['word_len'] = df['text'].apply(lambda x: len(x.split()))\n"
      ]
    },
    {
      "cell_type": "code",
      "execution_count": 9,
      "id": "2128fd2d",
      "metadata": {
        "colab": {
          "base_uri": "https://localhost:8080/",
          "height": 686
        },
        "id": "2128fd2d",
        "outputId": "50591a14-75ec-423e-afd4-ec629e5d3fb9"
      },
      "outputs": [
        {
          "output_type": "stream",
          "name": "stderr",
          "text": [
            "/usr/local/lib/python3.10/dist-packages/ipykernel/ipkernel.py:283: DeprecationWarning: `should_run_async` will not call `transform_cell` automatically in the future. Please pass the result to `transformed_cell` argument and any exception that happen during thetransform in `preprocessing_exc_tuple` in IPython 7.17 and above.\n",
            "  and should_run_async(code)\n"
          ]
        },
        {
          "output_type": "execute_result",
          "data": {
            "text/plain": [
              "<Axes: xlabel='category'>"
            ]
          },
          "metadata": {},
          "execution_count": 9
        },
        {
          "output_type": "display_data",
          "data": {
            "text/plain": [
              "<Figure size 1000x600 with 1 Axes>"
            ],
            "image/png": "[encoded data removed]"
          },
          "metadata": {}
        }
      ],
      "source": [
        "# %matplotlib inline\n",
        "\n",
        "df.groupby('category').agg({'word_len': 'mean'}).plot.bar(figsize=(10,6))"
      ]
    },
    {
      "cell_type": "markdown",
      "id": "554ffeb5",
      "metadata": {
        "id": "554ffeb5"
      },
      "source": [
        "Now do our TF-IDF and Count vectorizations."
      ]
    },
    {
      "cell_type": "code",
      "execution_count": 10,
      "id": "21a7d247",
      "metadata": {
        "colab": {
          "base_uri": "https://localhost:8080/"
        },
        "id": "21a7d247",
        "outputId": "7286dc24-d4a6-4fff-c23c-dd62814f216a"
      },
      "outputs": [
        {
          "output_type": "stream",
          "name": "stderr",
          "text": [
            "/usr/local/lib/python3.10/dist-packages/ipykernel/ipkernel.py:283: DeprecationWarning: `should_run_async` will not call `transform_cell` automatically in the future. Please pass the result to `transformed_cell` argument and any exception that happen during thetransform in `preprocessing_exc_tuple` in IPython 7.17 and above.\n",
            "  and should_run_async(code)\n",
            "/usr/local/lib/python3.10/dist-packages/sklearn/feature_extraction/text.py:409: UserWarning: Your stop_words may be inconsistent with your preprocessing. Tokenizing the stop words generated tokens ['ll', 've'] not in stop_words.\n",
            "  warnings.warn(\n"
          ]
        },
        {
          "output_type": "execute_result",
          "data": {
            "text/plain": [
              "(166, 4941)"
            ]
          },
          "metadata": {},
          "execution_count": 10
        }
      ],
      "source": [
        "count_text_vectorizer = CountVectorizer(stop_words=list(stopwords), min_df=5, max_df=0.7)\n",
        "count_text_vectors = count_text_vectorizer.fit_transform(df[\"text\"])\n",
        "count_text_vectors.shape"
      ]
    },
    {
      "cell_type": "code",
      "execution_count": 11,
      "id": "875deba9",
      "metadata": {
        "colab": {
          "base_uri": "https://localhost:8080/"
        },
        "id": "875deba9",
        "outputId": "efdc8cb7-4b39-46ca-a43d-e593d62a3d95"
      },
      "outputs": [
        {
          "output_type": "stream",
          "name": "stderr",
          "text": [
            "/usr/local/lib/python3.10/dist-packages/ipykernel/ipkernel.py:283: DeprecationWarning: `should_run_async` will not call `transform_cell` automatically in the future. Please pass the result to `transformed_cell` argument and any exception that happen during thetransform in `preprocessing_exc_tuple` in IPython 7.17 and above.\n",
            "  and should_run_async(code)\n"
          ]
        },
        {
          "output_type": "execute_result",
          "data": {
            "text/plain": [
              "(166, 4941)"
            ]
          },
          "metadata": {},
          "execution_count": 11
        }
      ],
      "source": [
        "tfidf_text_vectorizer = TfidfVectorizer(stop_words=list(stopwords), min_df=5, max_df=0.7)\n",
        "tfidf_text_vectors = tfidf_text_vectorizer.fit_transform(df['text'])\n",
        "tfidf_text_vectors.shape"
      ]
    },
    {
      "cell_type": "markdown",
      "id": "a1062b21",
      "metadata": {
        "id": "a1062b21"
      },
      "source": [
        "Q: What do the two data frames `count_text_vectors` and `tfidf_text_vectors` hold? \n",
        "\n",
        "A: The 'count_text_vectors' and 'tfidf_text_vectors' hold the transformed representations of the text data from the TF-IDF and count vectorization techniques. They allow the applications of machine learning algorithms for running topic modeling and other text based analysis."
      ]
    },
    {
      "cell_type": "markdown",
      "id": "f77c3f94",
      "metadata": {
        "id": "f77c3f94"
      },
      "source": [
        "## Fitting a Non-Negative Matrix Factorization Model\n",
        "\n",
        "In this section the code to fit a five-topic NMF model has already been written. This code comes directly from the [BTAP repo](https://github.com/blueprints-for-text-analytics-python/blueprints-text), which will help you tremendously in the coming sections. "
      ]
    },
    {
      "cell_type": "code",
      "execution_count": 12,
      "id": "d28745a3",
      "metadata": {
        "colab": {
          "base_uri": "https://localhost:8080/"
        },
        "id": "d28745a3",
        "outputId": "2d94d245-48d5-49c5-91b6-0f2311b6a4d8"
      },
      "outputs": [
        {
          "output_type": "stream",
          "name": "stderr",
          "text": [
            "/usr/local/lib/python3.10/dist-packages/ipykernel/ipkernel.py:283: DeprecationWarning: `should_run_async` will not call `transform_cell` automatically in the future. Please pass the result to `transformed_cell` argument and any exception that happen during thetransform in `preprocessing_exc_tuple` in IPython 7.17 and above.\n",
            "  and should_run_async(code)\n"
          ]
        }
      ],
      "source": [
        "nmf_text_model = NMF(n_components=5, random_state=314)\n",
        "W_text_matrix = nmf_text_model.fit_transform(tfidf_text_vectors)\n",
        "H_text_matrix = nmf_text_model.components_"
      ]
    },
    {
      "cell_type": "code",
      "execution_count": 13,
      "id": "a67185e7",
      "metadata": {
        "colab": {
          "base_uri": "https://localhost:8080/"
        },
        "id": "a67185e7",
        "outputId": "44dddb0e-8ea2-4c33-f25a-abe242fe3ea9"
      },
      "outputs": [
        {
          "output_type": "stream",
          "name": "stdout",
          "text": [
            "\n",
            "Topic 00\n",
            "  mr (0.51)\n",
            "  president (0.45)\n",
            "  kennedy (0.43)\n",
            "  united (0.42)\n",
            "  khrushchev (0.40)\n",
            "\n",
            "Topic 01\n",
            "  said (0.88)\n",
            "  didn (0.46)\n",
            "  ll (0.45)\n",
            "  thought (0.42)\n",
            "  man (0.37)\n",
            "\n",
            "Topic 02\n",
            "  state (0.39)\n",
            "  development (0.36)\n",
            "  tax (0.33)\n",
            "  sales (0.30)\n",
            "  program (0.25)\n",
            "\n",
            "Topic 03\n",
            "  mrs (2.61)\n",
            "  mr (0.78)\n",
            "  said (0.63)\n",
            "  miss (0.52)\n",
            "  car (0.51)\n",
            "\n",
            "Topic 04\n",
            "  game (1.02)\n",
            "  league (0.74)\n",
            "  ball (0.72)\n",
            "  baseball (0.71)\n",
            "  team (0.66)\n"
          ]
        },
        {
          "output_type": "stream",
          "name": "stderr",
          "text": [
            "/usr/local/lib/python3.10/dist-packages/ipykernel/ipkernel.py:283: DeprecationWarning: `should_run_async` will not call `transform_cell` automatically in the future. Please pass the result to `transformed_cell` argument and any exception that happen during thetransform in `preprocessing_exc_tuple` in IPython 7.17 and above.\n",
            "  and should_run_async(code)\n"
          ]
        }
      ],
      "source": [
        "display_topics(nmf_text_model, tfidf_text_vectorizer.get_feature_names_out())"
      ]
    },
    {
      "cell_type": "markdown",
      "id": "fee51e9b",
      "metadata": {
        "id": "fee51e9b"
      },
      "source": [
        "Now some work for you to do. Compare the NMF factorization to the original categories from the Brown Corpus.\n",
        "\n",
        "We are interested in the extent to which our NMF factorization agrees or disagrees with the original categories in the corpus. For each topic in your NMF model, tally the Brown categories and interpret the results. \n"
      ]
    },
    {
      "cell_type": "code",
      "execution_count": 14,
      "id": "7c8c8eb0",
      "metadata": {
        "colab": {
          "base_uri": "https://localhost:8080/"
        },
        "id": "7c8c8eb0",
        "outputId": "a807feaa-e550-41cc-c19a-fd8d0b8d23ee"
      },
      "outputs": [
        {
          "output_type": "stream",
          "name": "stdout",
          "text": [
            "\n",
            "Topic 2:\n",
            "Category: editorial, Count: 2, Percentage: 3.08%\n",
            "Category: government, Count: 26, Percentage: 40.00%\n",
            "Category: news, Count: 11, Percentage: 16.92%\n",
            "Category: hobbies, Count: 26, Percentage: 40.00%\n",
            "\n",
            "Topic 0:\n",
            "Category: editorial, Count: 20, Percentage: 62.50%\n",
            "Category: government, Count: 4, Percentage: 12.50%\n",
            "Category: news, Count: 8, Percentage: 25.00%\n",
            "\n",
            "Topic 1:\n",
            "Category: editorial, Count: 4, Percentage: 9.76%\n",
            "Category: romance, Count: 29, Percentage: 70.73%\n",
            "Category: hobbies, Count: 8, Percentage: 19.51%\n",
            "\n",
            "Topic 4:\n",
            "Category: editorial, Count: 1, Percentage: 10.00%\n",
            "Category: news, Count: 8, Percentage: 80.00%\n",
            "Category: hobbies, Count: 1, Percentage: 10.00%\n",
            "\n",
            "Topic 3:\n",
            "Category: news, Count: 17, Percentage: 94.44%\n",
            "Category: hobbies, Count: 1, Percentage: 5.56%\n"
          ]
        },
        {
          "output_type": "stream",
          "name": "stderr",
          "text": [
            "/usr/local/lib/python3.10/dist-packages/ipykernel/ipkernel.py:283: DeprecationWarning: `should_run_async` will not call `transform_cell` automatically in the future. Please pass the result to `transformed_cell` argument and any exception that happen during thetransform in `preprocessing_exc_tuple` in IPython 7.17 and above.\n",
            "  and should_run_async(code)\n"
          ]
        }
      ],
      "source": [
        "# Your code here\n",
        "\n",
        "topic_to_category = defaultdict(list)\n",
        "\n",
        "for idx, row in enumerate(W_text_matrix):\n",
        "    topic = np.where(row == np.amax(row))[0][0]\n",
        "    category = df[\"category\"].iloc[idx]\n",
        "    topic_to_category[topic].append(category)\n",
        "\n",
        "for topic, categories in topic_to_category.items():\n",
        "    topic_name = f\"Topic {topic}\"\n",
        "    category_counts = Counter(categories)\n",
        "    total_count = sum(category_counts.values())\n",
        "    print(f\"\\n{topic_name}:\")\n",
        "    for category, count in category_counts.items():\n",
        "        percentage = (count / total_count) * 100\n",
        "        print(f\"Category: {category}, Count: {count}, Percentage: {percentage:.2f}%\")"
      ]
    },
    {
      "cell_type": "markdown",
      "id": "f8d4e2bc",
      "metadata": {
        "id": "f8d4e2bc"
      },
      "source": [
        "Q: How does your five-topic NMF model compare to the original Brown categories? \n",
        "\n",
        "A: Other than topic 1, I don't see romance in any of these topics. Topic 2 has 4/5 categories and the other topics have either 3/5 or 2/5 topics. News is in 4/5 topics and is a staggering 94.44% in topic 3."
      ]
    },
    {
      "cell_type": "markdown",
      "id": "82e37cb5",
      "metadata": {
        "id": "82e37cb5"
      },
      "source": [
        "## Fitting an LSA Model\n",
        "\n",
        "In this section, follow the example from the repository and fit an LSA model (called a \"TruncatedSVD\" in `sklearn`). Again fit a five-topic model and compare it to the actual categories in the Brown corpus. Use the TF-IDF vectors for your fit, as above. \n",
        "\n",
        "To be explicit, we are once again interested in the extent to which this LSA factorization agrees or disagrees with the original categories in the corpus. For each topic in your model, tally the Brown categories and interpret the results. \n"
      ]
    },
    {
      "cell_type": "code",
      "execution_count": 15,
      "id": "00b53d3d",
      "metadata": {
        "colab": {
          "base_uri": "https://localhost:8080/"
        },
        "id": "00b53d3d",
        "outputId": "bfd6d233-b7ef-4924-d193-01c49af094ae"
      },
      "outputs": [
        {
          "output_type": "stream",
          "name": "stdout",
          "text": [
            "\n",
            "Topic 0:\n",
            "Category: editorial, Count: 27, Percentage: 18.24%\n",
            "Category: government, Count: 30, Percentage: 20.27%\n",
            "Category: news, Count: 34, Percentage: 22.97%\n",
            "Category: romance, Count: 21, Percentage: 14.19%\n",
            "Category: hobbies, Count: 36, Percentage: 24.32%\n",
            "\n",
            "Topic 4:\n",
            "Category: news, Count: 7, Percentage: 100.00%\n",
            "\n",
            "Topic 3:\n",
            "Category: news, Count: 3, Percentage: 100.00%\n",
            "\n",
            "Topic 1:\n",
            "Category: romance, Count: 8, Percentage: 100.00%\n"
          ]
        },
        {
          "output_type": "stream",
          "name": "stderr",
          "text": [
            "/usr/local/lib/python3.10/dist-packages/ipykernel/ipkernel.py:283: DeprecationWarning: `should_run_async` will not call `transform_cell` automatically in the future. Please pass the result to `transformed_cell` argument and any exception that happen during thetransform in `preprocessing_exc_tuple` in IPython 7.17 and above.\n",
            "  and should_run_async(code)\n"
          ]
        }
      ],
      "source": [
        "# Your code here\n",
        "\n",
        "lsa_model = TruncatedSVD(n_components=5, random_state=6102023)\n",
        "lsa_text_matrix = lsa_model.fit_transform(tfidf_text_vectors)\n",
        "\n",
        "topic_to_category = defaultdict(list)\n",
        "\n",
        "for idx, row in enumerate(lsa_text_matrix):\n",
        "    topic = np.argmax(row)\n",
        "    category = df[\"category\"].iloc[idx]\n",
        "    topic_to_category[topic].append(category)\n",
        "\n",
        "for topic, categories in topic_to_category.items():\n",
        "    topic_name = f\"Topic {topic}\"\n",
        "    category_counts = Counter(categories)\n",
        "    total_count = sum(category_counts.values())\n",
        "    print(f\"\\n{topic_name}:\")\n",
        "    for category, count in category_counts.items():\n",
        "        percentage = (count / total_count) * 100\n",
        "        print(f\"Category: {category}, Count: {count}, Percentage: {percentage:.2f}%\")"
      ]
    },
    {
      "cell_type": "markdown",
      "id": "4d94d56f",
      "metadata": {
        "id": "4d94d56f"
      },
      "source": [
        "Q: How does your five-topic LSA model compare to the original Brown categories? \n",
        "\n",
        "A: topic 0 is hits all 5 categories and has a pretty similar coount in each category. The other topics only have one category either news or romance. "
      ]
    },
    {
      "cell_type": "code",
      "execution_count": 16,
      "id": "377a886e",
      "metadata": {
        "colab": {
          "base_uri": "https://localhost:8080/"
        },
        "id": "377a886e",
        "outputId": "de1602e0-4772-4623-eafa-03bd7a1ec5c7"
      },
      "outputs": [
        {
          "output_type": "stream",
          "name": "stdout",
          "text": [
            "\n",
            "Topic 00\n",
            "  said (0.44)\n",
            "  mr (0.25)\n",
            "  mrs (0.22)\n",
            "  state (0.20)\n",
            "  man (0.17)\n",
            "\n",
            "Topic 01\n",
            "  said (3.89)\n",
            "  ll (2.73)\n",
            "  didn (2.63)\n",
            "  thought (2.20)\n",
            "  got (1.97)\n",
            "\n",
            "Topic 02\n",
            "  mrs (3.11)\n",
            "  mr (1.70)\n",
            "  said (1.03)\n",
            "  kennedy (0.79)\n",
            "  laos (0.77)\n",
            "\n",
            "Topic 03\n",
            "  mrs (30.33)\n",
            "  club (6.71)\n",
            "  game (6.25)\n",
            "  jr (5.82)\n",
            "  dallas (5.27)\n",
            "\n",
            "Topic 04\n",
            "  game (4.38)\n",
            "  league (3.14)\n",
            "  baseball (3.11)\n",
            "  ball (2.99)\n",
            "  team (2.86)\n"
          ]
        },
        {
          "output_type": "stream",
          "name": "stderr",
          "text": [
            "/usr/local/lib/python3.10/dist-packages/ipykernel/ipkernel.py:283: DeprecationWarning: `should_run_async` will not call `transform_cell` automatically in the future. Please pass the result to `transformed_cell` argument and any exception that happen during thetransform in `preprocessing_exc_tuple` in IPython 7.17 and above.\n",
            "  and should_run_async(code)\n"
          ]
        }
      ],
      "source": [
        "# call display_topics on your model\n",
        "\n",
        "display_topics(lsa_model, tfidf_text_vectorizer.get_feature_names_out(), no_top_words=5)"
      ]
    },
    {
      "cell_type": "markdown",
      "id": "ea8b280a",
      "metadata": {
        "id": "ea8b280a"
      },
      "source": [
        "Q: What is your interpretation of the display topics output? \n",
        "\n",
        "A: Starting from the bottom topic 3 and 4 seem to be related to sports games. Topic 4 especially talks about a baseball game. Topic 00,01,02 all have said which could relate to a conversation. Topic 02 is related to news it has the words kennedy and laos. It could be related to politics since well-known family Kennedy is there."
      ]
    },
    {
      "cell_type": "markdown",
      "id": "b4ab4d29",
      "metadata": {
        "id": "b4ab4d29"
      },
      "source": [
        "## Fitting an LDA Model\n",
        "\n",
        "Finally, fit a five-topic LDA model using the count vectors (`count_text_vectors` from above). Display the results using `pyLDAvis.display` and describe what you learn from that visualization. "
      ]
    },
    {
      "cell_type": "code",
      "source": [
        "# Fit your LDA model here\n",
        "\n",
        "lda_para_model = LatentDirichletAllocation(n_components = 5, random_state=6102023)\n",
        "W_lda_para_matrix = lda_para_model.fit_transform(count_text_vectors)\n",
        "H_lda_para_matrix = lda_para_model.components_"
      ],
      "metadata": {
        "colab": {
          "base_uri": "https://localhost:8080/"
        },
        "id": "_FhCygm6ih_5",
        "outputId": "3537b268-2518-45b1-ff00-7633966af9d8"
      },
      "id": "_FhCygm6ih_5",
      "execution_count": 17,
      "outputs": [
        {
          "output_type": "stream",
          "name": "stderr",
          "text": [
            "/usr/local/lib/python3.10/dist-packages/ipykernel/ipkernel.py:283: DeprecationWarning: `should_run_async` will not call `transform_cell` automatically in the future. Please pass the result to `transformed_cell` argument and any exception that happen during thetransform in `preprocessing_exc_tuple` in IPython 7.17 and above.\n",
            "  and should_run_async(code)\n"
          ]
        }
      ]
    },
    {
      "cell_type": "code",
      "source": [
        "for idx, row in enumerate(W_lda_para_matrix):\n",
        "    topic = np.argmax(row)\n",
        "    category = df[\"category\"].iloc[idx]\n",
        "    topic_to_category[topic].append(category)\n",
        "\n",
        "for topic, categories in topic_to_category.items():\n",
        "    topic_name = f\"Topic {topic}\"\n",
        "    category_counts = Counter(categories)\n",
        "    total_count = sum(category_counts.values())\n",
        "    print(f\"\\n{topic_name}:\")\n",
        "    for category, count in category_counts.items():\n",
        "        percentage = (count / total_count) * 100\n",
        "        print(f\"Category: {category}, Count: {count}, Percentage: {percentage:.2f}%\")"
      ],
      "metadata": {
        "colab": {
          "base_uri": "https://localhost:8080/"
        },
        "id": "xrSmx6rwZ4Wd",
        "outputId": "a3227365-dd5e-4bd9-809a-8179a7640ce5"
      },
      "id": "xrSmx6rwZ4Wd",
      "execution_count": 18,
      "outputs": [
        {
          "output_type": "stream",
          "name": "stdout",
          "text": [
            "\n",
            "Topic 0:\n",
            "Category: editorial, Count: 31, Percentage: 17.42%\n",
            "Category: government, Count: 35, Percentage: 19.66%\n",
            "Category: news, Count: 50, Percentage: 28.09%\n",
            "Category: romance, Count: 21, Percentage: 11.80%\n",
            "Category: hobbies, Count: 41, Percentage: 23.03%\n",
            "\n",
            "Topic 4:\n",
            "Category: news, Count: 12, Percentage: 23.08%\n",
            "Category: editorial, Count: 14, Percentage: 26.92%\n",
            "Category: government, Count: 19, Percentage: 36.54%\n",
            "Category: hobbies, Count: 7, Percentage: 13.46%\n",
            "\n",
            "Topic 3:\n",
            "Category: news, Count: 25, Percentage: 36.76%\n",
            "Category: editorial, Count: 8, Percentage: 11.76%\n",
            "Category: romance, Count: 29, Percentage: 42.65%\n",
            "Category: hobbies, Count: 6, Percentage: 8.82%\n",
            "\n",
            "Topic 1:\n",
            "Category: romance, Count: 8, Percentage: 29.63%\n",
            "Category: government, Count: 2, Percentage: 7.41%\n",
            "Category: news, Count: 1, Percentage: 3.70%\n",
            "Category: hobbies, Count: 16, Percentage: 59.26%\n",
            "\n",
            "Topic 2:\n",
            "Category: editorial, Count: 1, Percentage: 14.29%\n",
            "Category: government, Count: 4, Percentage: 57.14%\n",
            "Category: hobbies, Count: 2, Percentage: 28.57%\n"
          ]
        },
        {
          "output_type": "stream",
          "name": "stderr",
          "text": [
            "/usr/local/lib/python3.10/dist-packages/ipykernel/ipkernel.py:283: DeprecationWarning: `should_run_async` will not call `transform_cell` automatically in the future. Please pass the result to `transformed_cell` argument and any exception that happen during thetransform in `preprocessing_exc_tuple` in IPython 7.17 and above.\n",
            "  and should_run_async(code)\n"
          ]
        }
      ]
    },
    {
      "cell_type": "code",
      "execution_count": 19,
      "id": "ab18adf5",
      "metadata": {
        "colab": {
          "base_uri": "https://localhost:8080/"
        },
        "id": "ab18adf5",
        "outputId": "2512aff0-b449-4fea-c0c1-4cf551db1085"
      },
      "outputs": [
        {
          "output_type": "stream",
          "name": "stdout",
          "text": [
            "\n",
            "Topic 00\n",
            "  state (1.41)\n",
            "  said (0.85)\n",
            "  mr (0.67)\n",
            "  president (0.63)\n",
            "  000 (0.53)\n",
            "\n",
            "Topic 01\n",
            "  feed (0.55)\n",
            "  medical (0.54)\n",
            "  use (0.50)\n",
            "  fiscal (0.47)\n",
            "  clay (0.44)\n",
            "\n",
            "Topic 02\n",
            "  shelter (0.84)\n",
            "  business (0.83)\n",
            "  small (0.82)\n",
            "  brown (0.76)\n",
            "  mr (0.54)\n",
            "\n",
            "Topic 03\n",
            "  said (1.29)\n",
            "  mrs (0.68)\n",
            "  old (0.49)\n",
            "  man (0.48)\n",
            "  little (0.42)\n",
            "\n",
            "Topic 04\n",
            "  united (0.73)\n",
            "  states (0.58)\n",
            "  government (0.52)\n",
            "  development (0.50)\n",
            "  american (0.47)\n"
          ]
        },
        {
          "output_type": "stream",
          "name": "stderr",
          "text": [
            "/usr/local/lib/python3.10/dist-packages/ipykernel/ipkernel.py:283: DeprecationWarning: `should_run_async` will not call `transform_cell` automatically in the future. Please pass the result to `transformed_cell` argument and any exception that happen during thetransform in `preprocessing_exc_tuple` in IPython 7.17 and above.\n",
            "  and should_run_async(code)\n"
          ]
        }
      ],
      "source": [
        "# Call `display_topics` on your fitted model here\n",
        "\n",
        "display_topics(lda_para_model, tfidf_text_vectorizer.get_feature_names_out(), no_top_words=5)"
      ]
    },
    {
      "cell_type": "markdown",
      "id": "f2c67876",
      "metadata": {
        "id": "f2c67876"
      },
      "source": [
        "Q: What inference do you draw from the displayed topics for your LDA model? \n",
        "\n",
        "A: Topic 00 seems to be related to state or government affairs, topic 01 is relate to someone named clay and he seems to have some medical issues, topic 02 has a small business theme, topic 03 is related to conversations between perhaps old man and his mrs, and last but not least topic 04 is related to the united states government and people. \n",
        "\n",
        "Q: Repeat the tallying of Brown categories within your topics. How does your five-topic LDA model compare to the original Brown categories? \n",
        "\n",
        "A: Topic 0 has 5/5 original categories. The rest of the topics have mostly 4/5 categories and only 1 with 3/5 categories. This model captures the overall number of categories better than the rest of the models that we used."
      ]
    },
    {
      "cell_type": "code",
      "execution_count": 20,
      "id": "6aae75ca",
      "metadata": {
        "colab": {
          "base_uri": "https://localhost:8080/"
        },
        "id": "6aae75ca",
        "outputId": "2e8a7c50-29cc-416a-8be8-239be02045f2"
      },
      "outputs": [
        {
          "output_type": "stream",
          "name": "stderr",
          "text": [
            "/usr/local/lib/python3.10/dist-packages/ipykernel/ipkernel.py:283: DeprecationWarning: `should_run_async` will not call `transform_cell` automatically in the future. Please pass the result to `transformed_cell` argument and any exception that happen during thetransform in `preprocessing_exc_tuple` in IPython 7.17 and above.\n",
            "  and should_run_async(code)\n"
          ]
        }
      ],
      "source": [
        "lda_display = pyLDAvis.lda_model.prepare(lda_para_model, count_text_vectors, count_text_vectorizer, sort_topics=False)"
      ]
    },
    {
      "cell_type": "code",
      "execution_count": 21,
      "id": "2a89fc15",
      "metadata": {
        "colab": {
          "base_uri": "https://localhost:8080/",
          "height": 917
        },
        "id": "2a89fc15",
        "outputId": "023092e9-8a37-4da8-b459-51b1523bfaf0"
      },
      "outputs": [
        {
          "output_type": "stream",
          "name": "stderr",
          "text": [
            "/usr/local/lib/python3.10/dist-packages/ipykernel/ipkernel.py:283: DeprecationWarning: `should_run_async` will not call `transform_cell` automatically in the future. Please pass the result to `transformed_cell` argument and any exception that happen during thetransform in `preprocessing_exc_tuple` in IPython 7.17 and above.\n",
            "  and should_run_async(code)\n"
          ]
        },
        {
          "output_type": "execute_result",
          "data": {
            "text/plain": [
              "<IPython.core.display.HTML object>"
            ],
            "text/html": [
              "\n",
              "<link rel=\"stylesheet\" type=\"text/css\" href=\"https://cdn.jsdelivr.net/gh/bmabey/pyLDAvis@3.4.0/pyLDAvis/js/ldavis.v1.0.0.css\">\n",
              "\n",
              "\n",
              "<div id=\"ldavis_el132191399290608333449529942126\" style=\"background-color:white;\"></div>\n",
              "<script type=\"text/javascript\">\n",
              "\n",
              "var ldavis_el132191399290608333449529942126_data = {\"mdsDat\": {\"x\": [-0.07318256687345778, 0.003095960071907031, -0.018984414362607057, 0.20712735483405742, -0.1180563336698994], \"y\": [0.019418029589103554, 0.1301819989229593, -0.13784236358515825, -0.009185271242675328, -0.002572393684229304], \"topics\": [1, 2, 3, 4, 5], \"cluster\": [1, 1, 1, 1, 1], \"Freq\": [19.671663349305916, 12.780360529705751, 4.946569975197386, 35.96095662822649, 26.640449517564445]}, \"tinfo\": {\"Term\": [\"state\", \"said\", \"mrs\", \"mr\", \"business\", \"small\", \"brown\", \"united\", \"tax\", \"general\", \"feed\", \"development\", \"president\", \"board\", \"medical\", \"department\", \"shelter\", \"states\", \"government\", \"nuclear\", \"fiscal\", \"court\", \"use\", \"clay\", \"aircraft\", \"000\", \"kennedy\", \"federal\", \"available\", \"design\", \"republican\", \"boats\", \"sen\", \"hughes\", \"election\", \"republicans\", \"voters\", \"el\", \"rep\", \"vocational\", \"bond\", \"neutral\", \"bargaining\", \"gop\", \"residents\", \"voting\", \"geneva\", \"corp\", \"mitchell\", \"aug\", \"premier\", \"taxation\", \"gun\", \"disclosed\", \"negotiations\", \"trucks\", \"bankers\", \"heating\", \"vote\", \"laos\", \"legislature\", \"vehicle\", \"vehicles\", \"automobile\", \"formula\", \"senator\", \"state\", \"judge\", \"mayor\", \"wagner\", \"kennedy\", \"property\", \"senate\", \"county\", \"law\", \"council\", \"junior\", \"stock\", \"federal\", \"meeting\", \"court\", \"laws\", \"committee\", \"tax\", \"president\", \"east\", \"labor\", \"mr\", \"city\", \"000\", \"general\", \"bill\", \"said\", \"public\", \"states\", \"house\", \"administration\", \"party\", \"government\", \"program\", \"school\", \"local\", \"insert\", \"panels\", \"feed\", \"installation\", \"cattle\", \"drill\", \"designer\", \"heavier\", \"thickness\", \"clay\", \"width\", \"builder\", \"medical\", \"varying\", \"electricity\", \"experimental\", \"spots\", \"edges\", \"plastic\", \"discovery\", \"shipping\", \"lever\", \"frames\", \"combine\", \"aluminum\", \"chemical\", \"design\", \"pieces\", \"degrees\", \"outdoor\", \"bars\", \"inch\", \"lumber\", \"collection\", \"frame\", \"vacation\", \"fiscal\", \"materials\", \"file\", \"af\", \"library\", \"insurance\", \"piece\", \"interior\", \"signs\", \"cut\", \"sign\", \"tax\", \"use\", \"form\", \"return\", \"cost\", \"place\", \"available\", \"art\", \"daily\", \"work\", \"day\", \"head\", \"system\", \"large\", \"water\", \"income\", \"way\", \"set\", \"small\", \"shelter\", \"radiation\", \"concrete\", \"fallout\", \"blocks\", \"destruction\", \"tests\", \"proceedings\", \"36\", \"worthy\", \"recommendation\", \"mobile\", \"radar\", \"precision\", \"shelters\", \"destroy\", \"33\", \"motors\", \"generations\", \"enemy\", \"missiles\", \"aircraft\", \"resume\", \"universal\", \"vessels\", \"knight\", \"missile\", \"concerns\", \"denied\", \"weapons\", \"brown\", \"hearing\", \"loans\", \"appeal\", \"roof\", \"nuclear\", \"machine\", \"entrance\", \"credit\", \"business\", \"small\", \"officer\", \"board\", \"fig\", \"report\", \"department\", \"general\", \"mr\", \"30\", \"protection\", \"25\", \"company\", \"local\", \"court\", \"mrs\", \"mother\", \"ball\", \"love\", \"wasn\", \"woman\", \"player\", \"walked\", \"stood\", \"girl\", \"miss\", \"god\", \"yes\", \"baseball\", \"girls\", \"daughter\", \"stopped\", \"boy\", \"maybe\", \"hair\", \"baby\", \"anne\", \"dinner\", \"boys\", \"clothes\", \"hadn\", \"sitting\", \"played\", \"didn\", \"games\", \"eyes\", \"looked\", \"evening\", \"went\", \"got\", \"couldn\", \"league\", \"son\", \"thought\", \"old\", \"ll\", \"night\", \"young\", \"knew\", \"took\", \"know\", \"said\", \"room\", \"game\", \"little\", \"came\", \"man\", \"left\", \"don\", \"away\", \"john\", \"home\", \"think\", \"come\", \"good\", \"way\", \"day\", \"right\", \"life\", \"mr\", \"people\", \"week\", \"house\", \"rayburn\", \"congo\", \"india\", \"engineering\", \"textile\", \"independence\", \"stations\", \"communism\", \"promote\", \"promotion\", \"musical\", \"katanga\", \"faculty\", \"troops\", \"commodities\", \"marketing\", \"lands\", \"interference\", \"exceed\", \"castro\", \"eighty\", \"advisory\", \"hammarskjold\", \"technical\", \"fundamental\", \"allocation\", \"engineers\", \"institution\", \"conduct\", \"wildlife\", \"projects\", \"recreation\", \"nations\", \"institutions\", \"corps\", \"economic\", \"shall\", \"resources\", \"development\", \"united\", \"secretary\", \"peace\", \"activities\", \"planning\", \"military\", \"industrial\", \"government\", \"states\", \"service\", \"american\", \"program\", \"political\", \"act\", \"million\", \"national\", \"war\", \"world\", \"countries\", \"foreign\", \"public\", \"1960\", \"country\", \"forces\", \"use\", \"president\", \"000\", \"members\", \"great\", \"state\", \"department\", \"people\", \"college\", \"work\", \"business\"], \"Freq\": [491.0, 795.0, 307.0, 383.0, 205.0, 204.0, 93.0, 303.0, 177.0, 198.0, 95.0, 201.0, 296.0, 171.0, 100.0, 155.0, 52.0, 335.0, 276.0, 74.0, 110.0, 106.0, 254.0, 80.0, 52.0, 281.0, 130.0, 113.0, 119.0, 74.0, 38.79571996316276, 38.735881133551175, 29.144118953226922, 24.31449631576721, 53.234952571232974, 19.49360920199337, 14.666380284723756, 14.6646693389828, 14.652195187381608, 13.70251262239787, 13.69374629944527, 13.67377586495612, 12.737568403587897, 12.73683547605036, 11.766733010688954, 11.766197140261495, 12.655579309534113, 10.803660513745651, 18.021810394599175, 21.596132905771878, 23.386912442924363, 9.838843191062226, 18.80892644734213, 9.837230187830675, 16.114996355974387, 14.294610118032299, 10.710233529615953, 20.428234146681234, 51.72575145448301, 46.357675773708785, 28.994024756795184, 20.30886553525298, 38.70876792245622, 21.847856064138185, 32.473014777973766, 19.158983403911257, 344.5798265971658, 41.97648742171221, 37.23474620917153, 18.2054536017298, 93.38450779018974, 69.79815442958322, 40.995278424411886, 75.16303234689643, 71.067231688582, 55.15576719317523, 49.51186114146269, 56.8696115056588, 77.0198074616316, 67.35902526584698, 71.02660519834309, 38.254060893428985, 72.2682914864148, 104.39394484526333, 154.9674335652359, 62.94531076522659, 49.589658987342574, 165.11493608824102, 108.0559742515693, 129.84705698798933, 97.60184475800618, 58.507074493754715, 209.5137021267248, 80.63782433055955, 98.91457231893632, 75.89933629616257, 59.334184230295776, 55.06954352329267, 74.73970015773303, 70.76776677289439, 58.932502962926065, 51.81042968700658, 11.247173950725362, 30.186920957910417, 87.00188608418176, 7.639922078909725, 18.566482346156537, 29.38599463445027, 15.954144970794482, 5.829949580326295, 12.331954351392712, 69.55426016291517, 6.519964706237129, 21.12250488220436, 86.01631963367035, 11.314812521813677, 10.391228204724081, 4.773566881828803, 9.43947430074629, 18.906100846417036, 21.067398812254126, 7.7218594099896505, 13.128126122160278, 13.10366708184784, 16.962168306004337, 9.218863000247627, 7.661277840017524, 22.19598875884419, 60.3934458893182, 41.984882271303995, 7.57169434909111, 16.538793997140854, 23.26931509205011, 52.32959321507829, 22.829886868237214, 37.104321507999565, 28.955339144010914, 28.62509550114389, 75.30827324314347, 36.41128198589423, 35.924059468458715, 48.620388015025135, 31.30342986999812, 24.535690589585034, 38.38407496087634, 27.47500183915869, 24.931788406548446, 50.86553736036552, 34.71967446963018, 65.03505452745873, 79.21966115432664, 38.05129427547336, 34.50798241388224, 45.3618650689868, 57.684931563792354, 45.00612221272399, 31.621643047072563, 30.017431556121156, 54.77290641492028, 52.63650288754377, 39.76259451286381, 40.20878091279172, 39.11743522920094, 38.934690919296905, 33.948497066998705, 39.53369466341268, 35.741628471452756, 35.152729731683365, 51.94888208548777, 28.92818768252271, 19.369179546284062, 24.423386999925462, 14.823652661145625, 6.697902384194905, 19.39816134865413, 5.253300344524506, 19.213393952587314, 5.457052890020584, 12.056893314622256, 9.509776351581106, 5.905628650137366, 13.917035360901998, 13.159576229074915, 15.910704556493162, 7.315931468539327, 26.83253028629505, 6.701779560639195, 8.258430430148609, 12.961141788578665, 31.121199795384538, 5.224885640866194, 7.8119650973002175, 4.173792914178504, 6.673348308137553, 21.44214971690346, 13.480428686700792, 9.86888568683991, 17.302357875498743, 46.85466474502595, 24.718301863790938, 15.599345105971764, 16.16832715291921, 14.311772464333943, 30.93862463330265, 22.252739656581536, 11.173145968540963, 16.7849389115714, 51.40674404328298, 50.60264130523196, 18.58291783045009, 32.39823107714131, 13.127824879699803, 20.46690044255173, 25.45259867745448, 27.193667451038582, 33.56020645157131, 19.16432071544441, 15.690120646108083, 17.189509306057236, 17.21799342235407, 16.589167684445535, 16.222865725865837, 306.35271870682425, 96.72344208556795, 62.59815783590976, 59.65607205669942, 57.72066273507521, 54.79360486381509, 47.972746403160556, 46.995712206326814, 47.9524011583071, 45.04049018262844, 97.69109878055288, 62.16579179136315, 40.1639551968007, 39.196898421951225, 40.13162294136101, 37.24017389383835, 36.26332919674911, 81.14119714427275, 36.26064800816967, 35.296849769106096, 35.29653910786047, 34.31900613860117, 33.34275380083847, 34.28817024394222, 32.36721744528948, 31.396908505325243, 31.38785298024088, 33.29053242811951, 121.76818035392833, 30.418193994513118, 95.3632371019473, 82.65188599033232, 39.79593490607478, 129.8990248909827, 138.85563864749687, 51.807714318405665, 58.045352403817006, 70.18487165343296, 126.6577958128683, 220.39231541046243, 149.14956822699236, 136.28517323370122, 122.1767767611806, 83.17375894266979, 107.20969540746523, 162.75322754307805, 576.443920090557, 91.85547109666493, 82.02886552784278, 186.97226937181944, 133.12641291571504, 213.3459715335257, 133.07374727285475, 141.1328841170911, 104.20276775253316, 133.74504942773092, 181.8776198555653, 108.93624104320321, 133.76058413940518, 183.95364428730593, 159.31273739982544, 163.86664412507025, 128.3316412168857, 109.5729172619012, 143.70535243720337, 119.64211481168913, 106.89892442463491, 107.09023594978578, 45.97371622561251, 43.08718604673822, 37.23659702908862, 40.84970498190236, 28.464439933205643, 28.460963842023066, 58.64244786589715, 28.220836374439887, 20.665381223976112, 20.660457520908217, 20.660458521553608, 19.687743812828653, 51.321765900207346, 26.065117446836148, 16.729676852324143, 40.933451685562055, 15.789983206345473, 35.273728197244964, 14.816697663268917, 28.63570790127515, 13.837736278512509, 20.277947182692852, 12.861754539670754, 55.88742943741413, 12.85007631737328, 11.88698192466107, 27.348949158998806, 22.612022223944685, 15.403908706468961, 16.29736801873067, 50.320401307722925, 33.99799555928805, 72.10030890778438, 30.307323609680157, 68.91923411937448, 74.37992133550979, 111.61798579022461, 36.24835205032259, 165.66344990101533, 241.7431178924084, 104.38781932952759, 92.44709680764281, 50.04958196120206, 69.2048421954463, 91.47855991058921, 62.78345764691336, 172.7515427632135, 192.39008676500583, 129.53553718014274, 155.09972988002184, 137.10526553677022, 63.211411360475104, 87.4161009042364, 85.92358625904579, 121.8852427034691, 90.23733522910624, 126.01163639578569, 62.16157864724953, 69.0880957297536, 99.85931467715898, 78.13969252112754, 81.00624634390698, 63.39456257945789, 99.9931511260435, 106.69225352657315, 102.25566323261171, 77.09397591178612, 87.43016010714967, 113.50238722521362, 75.33133340977624, 79.08199145327465, 71.84854336544782, 76.04123567862123, 74.11203987156443], \"Total\": [491.0, 795.0, 307.0, 383.0, 205.0, 204.0, 93.0, 303.0, 177.0, 198.0, 95.0, 201.0, 296.0, 171.0, 100.0, 155.0, 52.0, 335.0, 276.0, 74.0, 110.0, 106.0, 254.0, 80.0, 52.0, 281.0, 130.0, 113.0, 119.0, 74.0, 39.54738819751968, 39.54797632710994, 29.895902364531402, 25.070237670656464, 54.966992287799535, 20.244452880682438, 15.418732051502104, 15.418744377757578, 15.418875427126483, 14.453487827641858, 14.453658033179044, 14.453851498997754, 13.488422794066233, 13.488431863316992, 12.52319317161678, 12.523033557317174, 13.478760949421932, 11.558059253734877, 19.284149790911602, 23.148038817431644, 25.079598087383726, 10.592857446489576, 20.251152497619703, 10.592749617769686, 17.35385498362154, 15.422364735182212, 11.559036677947958, 22.056702371711214, 55.98085080378228, 50.194841985101064, 31.847117956190758, 22.14953063430212, 43.383122389923564, 24.07107113731694, 37.62910612178904, 21.222884920573204, 491.9335110805171, 50.1059508934845, 44.438593774589265, 20.225972086077128, 130.62941465257438, 94.61442827178209, 51.22363434688597, 104.3007800815802, 98.3440612246631, 73.27296809736407, 64.78889680347348, 77.80122642196825, 113.3517211744848, 97.75546487849687, 106.06091896819207, 49.29945976200167, 110.37917017793967, 177.10098761657173, 296.62884609917376, 94.67614030151137, 69.46039889429413, 383.3324419338881, 213.94678185999257, 281.98657124069746, 198.36729828328612, 92.86973305777937, 795.8559653758684, 202.25537312887883, 335.4355374739164, 232.12266205853658, 132.574010934505, 108.56890408311469, 276.6489183205232, 233.44091777306383, 172.58489266506967, 127.89055017649387, 12.267675022211883, 33.08484995797557, 95.52865061914967, 8.49045684407843, 20.799744495824097, 32.985698691885595, 17.96230091362971, 6.601997704761482, 14.04440249216347, 80.06318753420166, 7.551331631246444, 24.58639648456502, 100.25295624561164, 13.231417167164969, 12.299059824981585, 5.662594622394998, 11.344427311236272, 22.738137676315834, 25.59098887624406, 9.450521598449084, 16.084829355147114, 16.085377715552763, 20.853826889875844, 11.359486648179288, 9.465597224868889, 27.457067042422953, 74.71155178446878, 52.189078231800664, 9.4687959912156, 20.73257862030365, 29.39639657409665, 66.88899196723837, 29.174219813134474, 48.453106227525375, 38.00056135796553, 37.99401016448826, 110.36914986839398, 50.3115511176546, 50.10385307979687, 74.14866308035892, 45.72325986899657, 34.15924016409292, 59.945580347779895, 40.86441230342287, 36.12387307934736, 96.10744764078841, 57.24896684170681, 177.10098761657173, 254.5785168769532, 78.59766379654727, 65.91074229763916, 115.8862434080086, 189.19971196437865, 119.22665756358742, 58.388123926344825, 53.50717783699178, 258.8543131759617, 301.7401712411453, 134.8817563093946, 142.3799819593315, 142.83249581033584, 162.80828845631885, 82.18418481555427, 273.8502923814343, 169.04655836622283, 204.74675031665518, 52.73217534493804, 31.70639063382999, 21.478655128920042, 27.55660541766871, 19.17576117799221, 8.734899970738432, 25.345609064826, 6.980789262364428, 26.253017726312827, 7.946896187377649, 17.62410419228611, 14.161036921723616, 8.860182089012588, 21.182831721773443, 20.40570331873225, 24.91615732360407, 11.545806043938205, 42.63238909241596, 10.696812319133192, 13.372251653384094, 21.467289017221418, 52.854754617829144, 8.94589930522932, 13.39486965765489, 7.16060509198209, 11.67636555097948, 37.732903334323524, 24.27821028444428, 17.963808351245554, 31.522151767559286, 93.27470900949237, 48.881044628423766, 29.793537744145638, 31.65421513906772, 27.802736600245172, 74.2807789132192, 50.093098149327425, 20.759096370651196, 38.29552345141581, 205.244817564999, 204.74675031665518, 51.54080844610651, 171.69156796859087, 29.688932447948183, 87.26288074906356, 155.4502100029531, 198.36729828328612, 383.3324419338881, 112.8438841923161, 46.40951319110202, 83.36601689930292, 137.7102313919543, 127.89055017649387, 106.06091896819207, 307.1116571059609, 97.4728242390973, 63.3456152744527, 60.42028221250996, 58.47025388917801, 55.54502805275867, 48.71965395224813, 47.74440789222849, 48.719387556368126, 45.79429533496954, 99.40277284665102, 63.302444887873655, 40.91900184325296, 39.94407035710425, 40.9190216676955, 37.99386405711004, 37.01875137722489, 82.83700012289741, 37.01861902051628, 36.04380289164861, 36.04380728452855, 35.06868458303355, 34.09360167175052, 35.06790315353199, 33.11851268322798, 32.14355654926615, 32.14344353405875, 34.09358843738975, 124.76901607248837, 31.168438028364193, 98.27748737375792, 85.76563359076715, 40.9189840950859, 137.10738589151046, 146.94599919951708, 53.5943349417695, 60.38125750634807, 73.765093429463, 140.09693677087355, 253.78813699197045, 167.15490686279614, 151.74655840192398, 136.05685004785084, 90.33981185398035, 120.37021266839622, 191.51133006700772, 795.8559653758684, 102.73336366266689, 90.60366997715144, 237.8158207395995, 161.7462253873322, 281.94978616640697, 162.17276851287784, 177.18439970431393, 123.32231535451189, 169.32608199711456, 265.87793852515534, 134.33553005209927, 185.29462861091758, 307.17701161911435, 273.8502923814343, 301.7401712411453, 212.69416693393768, 161.6789181279501, 383.3324419338881, 264.1436009575856, 189.48630762329105, 232.12266205853658, 46.760162137853236, 43.83657848147152, 37.987206103876886, 41.88389194472384, 29.213241845857706, 29.21282781973939, 60.37705083039452, 29.21226654752616, 21.41412426114948, 21.41406899829831, 21.414090987967054, 20.43910098827585, 53.55783705591626, 27.263456540027914, 17.51033977414611, 42.84802292952187, 16.539686173622965, 37.012537977362804, 15.564746203826235, 30.188178069717043, 14.589883829063673, 21.414202211969894, 13.614845430700273, 59.20045693216303, 13.614617645336937, 12.64009213306857, 29.177218329591852, 24.21285506502391, 16.534050094279053, 17.49934813445224, 54.49031623568402, 36.84470129146702, 79.83664994021696, 32.88972840614492, 76.93305911781661, 83.71628463689268, 129.46997203301217, 39.90777618244321, 201.34367977408613, 303.31587202119294, 123.65610614379833, 110.89184973219756, 59.161623811573605, 86.01772089913365, 121.82719481453245, 78.7303243423356, 276.6489183205232, 335.4355374739164, 206.56154774570052, 264.0563694541047, 233.44091777306383, 83.53638211164547, 131.3243415803116, 131.01482580566073, 215.55542682570626, 145.0528256230116, 254.91511623614127, 85.25790039598584, 102.08198005355447, 202.25537312887883, 130.99406771226893, 145.25136067677087, 88.89246857680018, 254.5785168769532, 296.62884609917376, 281.98657124069746, 141.96262409194264, 202.39933093948434, 491.9335110805171, 155.4502100029531, 264.1436009575856, 125.57581512459399, 258.8543131759617, 205.244817564999], \"Category\": [\"Default\", \"Default\", \"Default\", \"Default\", \"Default\", \"Default\", \"Default\", \"Default\", \"Default\", \"Default\", \"Default\", \"Default\", \"Default\", \"Default\", \"Default\", \"Default\", \"Default\", \"Default\", \"Default\", \"Default\", \"Default\", \"Default\", \"Default\", \"Default\", \"Default\", \"Default\", \"Default\", \"Default\", \"Default\", \"Default\", \"Topic1\", \"Topic1\", \"Topic1\", \"Topic1\", \"Topic1\", \"Topic1\", \"Topic1\", \"Topic1\", \"Topic1\", \"Topic1\", \"Topic1\", \"Topic1\", \"Topic1\", \"Topic1\", \"Topic1\", \"Topic1\", \"Topic1\", \"Topic1\", \"Topic1\", \"Topic1\", \"Topic1\", \"Topic1\", \"Topic1\", \"Topic1\", \"Topic1\", \"Topic1\", \"Topic1\", \"Topic1\", \"Topic1\", \"Topic1\", \"Topic1\", \"Topic1\", \"Topic1\", \"Topic1\", \"Topic1\", \"Topic1\", \"Topic1\", \"Topic1\", \"Topic1\", \"Topic1\", \"Topic1\", \"Topic1\", \"Topic1\", \"Topic1\", \"Topic1\", \"Topic1\", \"Topic1\", \"Topic1\", \"Topic1\", \"Topic1\", \"Topic1\", \"Topic1\", \"Topic1\", \"Topic1\", \"Topic1\", \"Topic1\", \"Topic1\", \"Topic1\", \"Topic1\", \"Topic1\", \"Topic1\", \"Topic1\", \"Topic1\", \"Topic1\", \"Topic1\", \"Topic1\", \"Topic1\", \"Topic1\", \"Topic1\", \"Topic1\", \"Topic1\", \"Topic1\", \"Topic2\", \"Topic2\", \"Topic2\", \"Topic2\", \"Topic2\", \"Topic2\", \"Topic2\", \"Topic2\", \"Topic2\", \"Topic2\", \"Topic2\", \"Topic2\", \"Topic2\", \"Topic2\", \"Topic2\", \"Topic2\", \"Topic2\", \"Topic2\", \"Topic2\", \"Topic2\", \"Topic2\", \"Topic2\", \"Topic2\", \"Topic2\", \"Topic2\", \"Topic2\", \"Topic2\", \"Topic2\", \"Topic2\", \"Topic2\", \"Topic2\", \"Topic2\", \"Topic2\", \"Topic2\", \"Topic2\", \"Topic2\", \"Topic2\", \"Topic2\", \"Topic2\", \"Topic2\", \"Topic2\", \"Topic2\", \"Topic2\", \"Topic2\", \"Topic2\", \"Topic2\", \"Topic2\", \"Topic2\", \"Topic2\", \"Topic2\", \"Topic2\", \"Topic2\", \"Topic2\", \"Topic2\", \"Topic2\", \"Topic2\", \"Topic2\", \"Topic2\", \"Topic2\", \"Topic2\", \"Topic2\", \"Topic2\", \"Topic2\", \"Topic2\", \"Topic2\", \"Topic2\", \"Topic3\", \"Topic3\", \"Topic3\", \"Topic3\", \"Topic3\", \"Topic3\", \"Topic3\", \"Topic3\", \"Topic3\", \"Topic3\", \"Topic3\", \"Topic3\", \"Topic3\", \"Topic3\", \"Topic3\", \"Topic3\", \"Topic3\", \"Topic3\", \"Topic3\", \"Topic3\", \"Topic3\", \"Topic3\", \"Topic3\", \"Topic3\", \"Topic3\", \"Topic3\", \"Topic3\", \"Topic3\", \"Topic3\", \"Topic3\", \"Topic3\", \"Topic3\", \"Topic3\", \"Topic3\", \"Topic3\", \"Topic3\", \"Topic3\", \"Topic3\", \"Topic3\", \"Topic3\", \"Topic3\", \"Topic3\", \"Topic3\", \"Topic3\", \"Topic3\", \"Topic3\", \"Topic3\", \"Topic3\", \"Topic3\", \"Topic3\", \"Topic3\", \"Topic3\", \"Topic3\", \"Topic3\", \"Topic4\", \"Topic4\", \"Topic4\", \"Topic4\", \"Topic4\", \"Topic4\", \"Topic4\", \"Topic4\", \"Topic4\", \"Topic4\", \"Topic4\", \"Topic4\", \"Topic4\", \"Topic4\", \"Topic4\", \"Topic4\", \"Topic4\", \"Topic4\", \"Topic4\", \"Topic4\", \"Topic4\", \"Topic4\", \"Topic4\", \"Topic4\", \"Topic4\", \"Topic4\", \"Topic4\", \"Topic4\", \"Topic4\", \"Topic4\", \"Topic4\", \"Topic4\", \"Topic4\", \"Topic4\", \"Topic4\", \"Topic4\", \"Topic4\", \"Topic4\", \"Topic4\", \"Topic4\", \"Topic4\", \"Topic4\", \"Topic4\", \"Topic4\", \"Topic4\", \"Topic4\", \"Topic4\", \"Topic4\", \"Topic4\", \"Topic4\", \"Topic4\", \"Topic4\", \"Topic4\", \"Topic4\", \"Topic4\", \"Topic4\", \"Topic4\", \"Topic4\", \"Topic4\", \"Topic4\", \"Topic4\", \"Topic4\", \"Topic4\", \"Topic4\", \"Topic4\", \"Topic4\", \"Topic4\", \"Topic4\", \"Topic5\", \"Topic5\", \"Topic5\", \"Topic5\", \"Topic5\", \"Topic5\", \"Topic5\", \"Topic5\", \"Topic5\", \"Topic5\", \"Topic5\", \"Topic5\", \"Topic5\", \"Topic5\", \"Topic5\", \"Topic5\", \"Topic5\", \"Topic5\", \"Topic5\", \"Topic5\", \"Topic5\", \"Topic5\", \"Topic5\", \"Topic5\", \"Topic5\", \"Topic5\", \"Topic5\", \"Topic5\", \"Topic5\", \"Topic5\", \"Topic5\", \"Topic5\", \"Topic5\", \"Topic5\", \"Topic5\", \"Topic5\", \"Topic5\", \"Topic5\", \"Topic5\", \"Topic5\", \"Topic5\", \"Topic5\", \"Topic5\", \"Topic5\", \"Topic5\", \"Topic5\", \"Topic5\", \"Topic5\", \"Topic5\", \"Topic5\", \"Topic5\", \"Topic5\", \"Topic5\", \"Topic5\", \"Topic5\", \"Topic5\", \"Topic5\", \"Topic5\", \"Topic5\", \"Topic5\", \"Topic5\", \"Topic5\", \"Topic5\", \"Topic5\", \"Topic5\", \"Topic5\", \"Topic5\", \"Topic5\", \"Topic5\", \"Topic5\", \"Topic5\", \"Topic5\", \"Topic5\", \"Topic5\"], \"logprob\": [30.0, 29.0, 28.0, 27.0, 26.0, 25.0, 24.0, 23.0, 22.0, 21.0, 20.0, 19.0, 18.0, 17.0, 16.0, 15.0, 14.0, 13.0, 12.0, 11.0, 10.0, 9.0, 8.0, 7.0, 6.0, 5.0, 4.0, 3.0, 2.0, 1.0, -6.4491, -6.4506, -6.7351, -6.9163, -6.1327, -7.1373, -7.4218, -7.4219, -7.4228, -7.4898, -7.4904, -7.4919, -7.5628, -7.5629, -7.6421, -7.6421, -7.5693, -7.7275, -7.2158, -7.0349, -6.9552, -7.821, -7.173, -7.8212, -7.3276, -7.4475, -7.7362, -7.0905, -6.1614, -6.271, -6.7403, -7.0963, -6.4513, -7.0233, -6.627, -7.1546, -4.265, -6.3703, -6.4901, -7.2056, -5.5706, -5.8618, -6.3939, -5.7877, -5.8437, -6.0972, -6.2052, -6.0666, -5.7633, -5.8973, -5.8443, -6.4631, -5.827, -5.4592, -5.0642, -5.9651, -6.2036, -5.0007, -5.4247, -5.241, -5.5265, -6.0382, -4.7626, -5.7174, -5.5131, -5.778, -6.0242, -6.0988, -5.7934, -5.848, -6.031, -6.1598, -7.256, -6.2687, -5.2102, -7.6427, -6.7547, -6.2956, -6.9064, -7.9131, -7.1639, -5.434, -7.8012, -6.6258, -5.2216, -7.25, -7.3351, -8.113, -7.4312, -6.7366, -6.6284, -7.632, -7.1013, -7.1032, -6.8451, -7.4548, -7.6399, -6.5762, -5.5752, -5.9388, -7.6517, -6.8704, -6.529, -5.7185, -6.548, -6.0624, -6.3103, -6.3218, -5.3545, -6.0812, -6.0947, -5.7921, -6.2324, -6.476, -6.0285, -6.3628, -6.46, -5.7469, -6.1288, -5.5012, -5.3039, -6.0372, -6.1349, -5.8614, -5.6211, -5.8693, -6.2223, -6.2743, -5.6729, -5.7127, -5.9932, -5.982, -6.0095, -6.0142, -6.1513, -5.9989, -6.0998, -6.1164, -4.7766, -5.3621, -5.7632, -5.5313, -6.0307, -6.8251, -5.7617, -7.068, -5.7713, -7.03, -6.2372, -6.4746, -6.951, -6.0938, -6.1497, -5.9599, -6.7368, -5.4373, -6.8245, -6.6157, -6.1649, -5.289, -7.0735, -6.6712, -7.2981, -6.8288, -5.6615, -6.1256, -6.4375, -5.876, -4.8798, -5.5193, -5.9797, -5.9438, -6.0658, -5.2949, -5.6244, -6.3134, -5.9064, -4.7871, -4.8029, -5.8046, -5.2488, -6.1522, -5.7081, -5.4901, -5.4239, -5.2135, -5.7738, -5.9739, -5.8826, -5.8809, -5.9181, -5.9405, -4.9859, -6.1388, -6.5739, -6.622, -6.655, -6.7071, -6.84, -6.8606, -6.8404, -6.9031, -6.1288, -6.5808, -7.0177, -7.042, -7.0185, -7.0932, -7.1198, -6.3144, -7.1199, -7.1468, -7.1468, -7.1749, -7.2038, -7.1758, -7.2335, -7.2639, -7.2642, -7.2054, -5.9085, -7.2956, -6.1529, -6.296, -7.0269, -5.8439, -5.7772, -6.7631, -6.6494, -6.4595, -5.8691, -5.3152, -5.7057, -5.7959, -5.9052, -6.2897, -6.0358, -5.6184, -4.3537, -6.1904, -6.3036, -5.4797, -5.8193, -5.3477, -5.8197, -5.7609, -6.0643, -5.8147, -5.5073, -6.0199, -5.8146, -5.4959, -5.6398, -5.6116, -5.856, -6.014, -5.7429, -5.9261, -6.0387, -6.037, -6.5826, -6.6474, -6.7933, -6.7007, -7.062, -7.0621, -6.3392, -7.0706, -7.3822, -7.3824, -7.3824, -7.4306, -6.4725, -7.15, -7.5934, -6.6987, -7.6512, -6.8475, -7.7149, -7.056, -7.7832, -7.4011, -7.8564, -6.3873, -7.8573, -7.9352, -7.1019, -7.2921, -7.676, -7.6196, -6.4922, -6.8843, -6.1326, -6.9992, -6.1777, -6.1014, -5.6955, -6.8202, -5.3007, -4.9227, -5.7625, -5.884, -6.4976, -6.1736, -5.8945, -6.2709, -5.2588, -5.1511, -5.5467, -5.3666, -5.4899, -6.2641, -5.9399, -5.9572, -5.6075, -5.9082, -5.5742, -6.2809, -6.1752, -5.8069, -6.0521, -6.0161, -6.2612, -5.8055, -5.7407, -5.7831, -6.0656, -5.9398, -5.6788, -6.0887, -6.0401, -6.1361, -6.0793, -6.105], \"loglift\": [30.0, 29.0, 28.0, 27.0, 26.0, 25.0, 24.0, 23.0, 22.0, 21.0, 20.0, 19.0, 18.0, 17.0, 16.0, 15.0, 14.0, 13.0, 12.0, 11.0, 10.0, 9.0, 8.0, 7.0, 6.0, 5.0, 4.0, 3.0, 2.0, 1.0, 1.6068, 1.6052, 1.6005, 1.5954, 1.594, 1.5882, 1.576, 1.5758, 1.575, 1.5726, 1.572, 1.5705, 1.5687, 1.5687, 1.5637, 1.5637, 1.563, 1.5585, 1.5583, 1.5566, 1.5561, 1.5521, 1.5521, 1.552, 1.5519, 1.5501, 1.5497, 1.5493, 1.5469, 1.5465, 1.5321, 1.5392, 1.512, 1.5291, 1.4786, 1.5237, 1.27, 1.449, 1.4491, 1.5207, 1.2904, 1.3218, 1.4032, 1.2984, 1.3011, 1.342, 1.3571, 1.3126, 1.2396, 1.2536, 1.225, 1.3723, 1.2025, 1.0974, 0.9767, 1.2178, 1.289, 0.7837, 0.9429, 0.8505, 0.9168, 1.1639, 0.2914, 0.7064, 0.4048, 0.5081, 0.822, 0.9472, 0.3173, 0.4325, 0.5515, 0.7224, 1.9704, 1.9656, 1.9638, 1.9517, 1.9437, 1.9417, 1.9387, 1.9329, 1.9272, 1.9166, 1.9104, 1.9054, 1.9041, 1.9008, 1.8887, 1.8865, 1.8734, 1.8727, 1.8627, 1.8552, 1.8541, 1.8522, 1.8507, 1.8485, 1.8458, 1.8445, 1.8445, 1.8397, 1.8337, 1.8313, 1.8235, 1.8118, 1.812, 1.7904, 1.7854, 1.7741, 1.675, 1.7339, 1.7246, 1.6352, 1.6784, 1.7264, 1.6115, 1.6603, 1.6865, 1.421, 1.5572, 1.0555, 0.8899, 1.3319, 1.4101, 1.1193, 0.8695, 1.083, 1.444, 1.4792, 0.5042, 0.3111, 0.8358, 0.7928, 0.7622, 0.6266, 1.1731, 0.1218, 0.5034, 0.2952, 2.9915, 2.9148, 2.9031, 2.8858, 2.7491, 2.7409, 2.739, 2.7222, 2.6943, 2.6306, 2.6268, 2.6083, 2.6008, 2.5864, 2.5678, 2.558, 2.5502, 2.5435, 2.5389, 2.5245, 2.5019, 2.4768, 2.4687, 2.4673, 2.4667, 2.447, 2.4413, 2.4181, 2.4075, 2.4066, 2.318, 2.3246, 2.3594, 2.3347, 2.3424, 2.1306, 2.1951, 2.387, 2.1816, 1.622, 1.6087, 1.9863, 1.3389, 2.1904, 1.5564, 1.197, 1.0193, 0.5709, 1.2335, 1.922, 1.4275, 0.9273, 0.9641, 1.1289, 1.0203, 1.015, 1.0109, 1.01, 1.0098, 1.0091, 1.0073, 1.0069, 1.0069, 1.0061, 1.0054, 1.0046, 1.0041, 1.0039, 1.0033, 1.0027, 1.0021, 1.0021, 1.002, 1.0018, 1.0018, 1.0011, 1.0005, 1.0003, 0.9998, 0.9992, 0.9989, 0.9989, 0.9984, 0.9984, 0.9926, 0.9858, 0.9949, 0.9687, 0.9661, 0.9888, 0.9833, 0.973, 0.9219, 0.8816, 0.9088, 0.9153, 0.9151, 0.9401, 0.907, 0.86, 0.7002, 0.9108, 0.9233, 0.7822, 0.828, 0.7439, 0.825, 0.7952, 0.8543, 0.7868, 0.643, 0.8132, 0.6968, 0.51, 0.481, 0.4122, 0.5175, 0.6337, 0.0416, 0.2307, 0.4503, 0.2491, 1.3058, 1.3055, 1.3028, 1.2977, 1.2968, 1.2967, 1.2936, 1.2882, 1.2871, 1.2869, 1.2869, 1.2853, 1.2801, 1.2778, 1.2771, 1.277, 1.2764, 1.2746, 1.2735, 1.2699, 1.2698, 1.2682, 1.2658, 1.2651, 1.2649, 1.2613, 1.258, 1.2543, 1.2519, 1.2516, 1.2431, 1.2423, 1.2208, 1.241, 1.2127, 1.2045, 1.1744, 1.2266, 1.1277, 1.0958, 1.1533, 1.1408, 1.1555, 1.1053, 1.0362, 1.0964, 0.8518, 0.7668, 0.8561, 0.7906, 0.7906, 1.0439, 0.9157, 0.9009, 0.7526, 0.8481, 0.6182, 1.0068, 0.9323, 0.617, 0.8061, 0.7388, 0.9847, 0.3882, 0.3002, 0.3084, 0.7122, 0.4833, -0.1438, 0.5983, 0.1167, 0.7644, 0.0977, 0.3041]}, \"token.table\": {\"Topic\": [1, 2, 3, 4, 5, 1, 2, 4, 5, 1, 2, 3, 4, 5, 1, 2, 3, 4, 5, 1, 3, 1, 2, 3, 1, 2, 3, 4, 5, 1, 2, 3, 4, 5, 1, 2, 3, 5, 4, 5, 1, 2, 5, 1, 3, 5, 5, 2, 4, 1, 2, 3, 4, 5, 4, 1, 2, 3, 4, 5, 2, 4, 5, 1, 4, 1, 2, 1, 2, 3, 5, 1, 2, 3, 4, 5, 4, 4, 1, 1, 1, 2, 5, 4, 1, 2, 4, 2, 3, 4, 1, 2, 3, 4, 5, 1, 1, 1, 4, 4, 2, 3, 4, 5, 1, 2, 1, 2, 3, 4, 5, 1, 2, 3, 4, 5, 4, 5, 2, 4, 1, 2, 1, 2, 3, 4, 5, 1, 2, 3, 4, 5, 4, 2, 4, 5, 1, 2, 4, 5, 1, 2, 5, 1, 2, 3, 4, 5, 1, 4, 5, 5, 5, 1, 2, 3, 4, 5, 2, 3, 4, 5, 1, 3, 1, 5, 5, 1, 1, 4, 5, 1, 2, 3, 4, 5, 4, 5, 1, 2, 3, 4, 5, 1, 2, 4, 5, 1, 2, 3, 4, 5, 1, 2, 4, 5, 1, 3, 4, 5, 1, 2, 3, 4, 5, 1, 2, 3, 4, 5, 1, 2, 4, 5, 4, 1, 2, 3, 4, 5, 2, 4, 1, 3, 4, 1, 2, 3, 4, 5, 1, 2, 3, 5, 2, 5, 1, 3, 5, 1, 3, 1, 2, 3, 5, 1, 4, 5, 4, 1, 1, 2, 1, 2, 3, 4, 2, 3, 4, 5, 1, 2, 4, 5, 1, 5, 2, 4, 5, 5, 1, 1, 2, 2, 4, 1, 3, 5, 5, 2, 5, 3, 4, 4, 5, 5, 2, 2, 3, 4, 2, 4, 5, 1, 3, 4, 1, 2, 3, 4, 5, 2, 4, 2, 3, 2, 3, 4, 5, 1, 2, 5, 1, 2, 3, 5, 1, 2, 4, 5, 1, 2, 3, 4, 5, 1, 2, 4, 5, 2, 4, 5, 2, 4, 5, 2, 4, 5, 4, 1, 2, 3, 4, 5, 3, 4, 5, 1, 4, 4, 4, 1, 2, 3, 4, 5, 1, 1, 3, 4, 1, 2, 3, 4, 5, 1, 2, 3, 4, 5, 1, 5, 4, 4, 5, 1, 2, 3, 4, 5, 1, 3, 4, 5, 1, 3, 2, 1, 2, 3, 4, 5, 1, 2, 3, 4, 5, 1, 1, 2, 3, 4, 1, 2, 3, 4, 5, 5, 5, 1, 2, 3, 5, 2, 2, 3, 5, 2, 3, 5, 1, 2, 4, 5, 2, 3, 4, 5, 1, 2, 3, 4, 5, 1, 3, 4, 1, 4, 5, 1, 4, 5, 1, 3, 4, 3, 4, 5, 1, 2, 3, 4, 5, 1, 2, 4, 5, 5, 1, 5, 1, 2, 3, 4, 5, 1, 2, 3, 4, 5, 1, 4, 5, 1, 2, 4, 1, 2, 3, 4, 5, 1, 5, 1, 2, 2, 4, 2, 3, 4, 5, 1, 2, 3, 4, 5, 1, 2, 4, 1, 2, 3, 5, 1, 2, 3, 4, 5, 1, 4, 5, 4, 1, 2, 3, 4, 1, 2, 3, 4, 5, 1, 2, 3, 4, 5, 1, 5, 2, 3, 5, 4, 1, 4, 2, 3, 4, 5, 1, 4, 5, 1, 2, 4, 5, 1, 2, 3, 4, 5, 1, 2, 3, 5, 4, 5, 1, 3, 5, 3, 5, 1, 4, 1, 3, 4, 4, 1, 2, 3, 1, 3, 4, 5, 4, 5, 1, 2, 3, 4, 5, 1, 5, 1, 5, 1, 1, 2, 3, 4, 5, 1, 3, 5, 1, 2, 3, 4, 1, 2, 3, 4, 5, 2, 3, 4, 5, 2, 4, 1, 2, 4, 5, 1, 3, 4, 5, 1, 2, 3, 4, 5, 1, 2, 3, 4, 5, 2, 4, 5, 1, 2, 3, 4, 5, 1, 2, 3, 5, 2, 4, 4, 4, 1, 3, 5, 1, 2, 3, 1, 5, 1, 2, 4, 5, 2, 3, 1, 2, 3, 4, 5, 1, 2, 5, 5, 5, 1, 2, 3, 4, 5, 3, 5, 1, 2, 3, 4, 5, 1, 3, 4, 2, 3, 5, 1, 2, 3, 5, 2, 3, 5, 1, 1, 2, 3, 4, 5, 1, 1, 1, 1, 4, 5, 1, 3, 4, 1, 2, 3, 4, 5, 1, 2, 3, 4, 5, 1, 2, 3, 4, 1, 2, 3, 4, 1, 2, 3, 4, 5, 1, 2, 4, 5, 1, 4, 5, 1, 1, 5, 1, 4, 1, 2, 3, 4, 5, 1, 2, 4, 5, 1, 2, 4, 5, 3, 1, 2, 3, 4, 5, 1, 2, 1, 2, 4, 5, 1, 2, 4, 4, 1, 2, 3, 4, 5, 2, 3, 4, 1, 2, 1, 2, 3, 4, 5, 1, 2, 3, 4, 5, 2, 5, 1, 2, 3, 4, 5, 4, 4, 1, 2, 3, 4, 5, 1, 2, 4, 5, 1, 2, 3, 5, 1, 3, 4, 5, 2, 3, 1, 2, 4, 5, 1, 2, 3, 4, 5, 1, 2, 3, 4, 5, 4, 5, 1, 4, 1, 2, 3, 4, 5, 2, 3, 4, 1, 2, 3, 4, 5, 1, 2, 4, 5, 1, 2, 1, 2, 1, 2, 4, 5, 1, 3, 4, 1, 1, 5, 1, 1, 1, 2, 4, 4, 1, 2, 3, 4, 5, 4, 1, 2, 3, 4, 5, 1, 2, 3, 4, 5, 1, 3, 5, 1, 2, 4, 5, 1, 2, 3, 4, 2, 2, 5, 4, 1, 2, 3, 4, 5, 1, 2, 3, 4, 5, 1, 3, 5, 4, 1, 3, 4, 5], \"Freq\": [0.4610148611971841, 0.08156416775027103, 0.03900894979360788, 0.05674029060888419, 0.36171935263163674, 0.2366519380716699, 0.0610714678894632, 0.1068750688065606, 0.5954468119222662, 0.17992943117479593, 0.2519012036447143, 0.20392002199810205, 0.2758917944680204, 0.08396706788157143, 0.15951241069762537, 0.3013012202066257, 0.1683742112919379, 0.28357761901800066, 0.0886180059431252, 0.3464461454469076, 0.6062807545320883, 0.1142725773956708, 0.1142725773956708, 0.723726323505915, 0.17513889445951888, 0.022844203625154637, 0.09899154904233676, 0.038073672708591064, 0.6624819051294845, 0.0338056982068289, 0.05070854731024336, 0.01690284910341445, 0.0338056982068289, 0.8451424551707226, 0.44503443460836023, 0.007542956518785767, 0.0678866086690719, 0.4752062606835033, 0.046697980625261405, 0.9339596125052281, 0.32367407587632296, 0.660834571580826, 0.013486419828180125, 0.07567909507710979, 0.5865129868476009, 0.3216361540777167, 0.9493601687131707, 0.845165900254203, 0.10564573753177538, 0.08331554374348767, 0.06059312272253648, 0.00757414034031706, 0.25752077157078007, 0.5869958763745722, 0.969525957539035, 0.09477410786588708, 0.03159136928862903, 0.5054619086180645, 0.28432232359766124, 0.06318273857725806, 0.5480566568702774, 0.4281692631799042, 0.034253541054392336, 0.9504044888430413, 0.04320020403832006, 0.9139601588353832, 0.08308728716685301, 0.07548647411506952, 0.3774323705753476, 0.11742340417899703, 0.4361440726648461, 0.024326497531091333, 0.08108832510363777, 0.008108832510363777, 0.8433185810778329, 0.040544162551818884, 0.9710405930125869, 0.9945439747809651, 0.9516363955298737, 0.9637894806884985, 0.06803554969599059, 0.7824088215038918, 0.13607109939198117, 0.9763651939157887, 0.6352984773122246, 0.03230331240570634, 0.33380089485896547, 0.10429833691793032, 0.7822375268844775, 0.10429833691793032, 0.15143434420003912, 0.11648795707695316, 0.18638073132312505, 0.27374669913083993, 0.2679223012769923, 0.9861440109456547, 0.9686129260746552, 0.012071900219906501, 0.9778239178124265, 0.969547561801555, 0.06432611866298497, 0.5038879295267157, 0.3430726328692532, 0.09648917799447747, 0.12201869443874608, 0.8541308610712225, 0.1412946760071834, 0.048722302071442555, 0.24848374056435701, 0.19488920828577022, 0.3605450353286749, 0.08037281840036155, 0.018547573477006512, 0.037095146954013024, 0.822275757480622, 0.043277671446348524, 0.033125549931850296, 0.9606409480236586, 0.9134727594281061, 0.0961550273082217, 0.18210247992892595, 0.8012509116872742, 0.5047984319328324, 0.09348119109867267, 0.023370297774668168, 0.3084879306256198, 0.0701108933240045, 0.03747040421939796, 0.8743094317859524, 0.03747040421939796, 0.03747040421939796, 0.01249013473979932, 0.9662269651440469, 0.763624933069429, 0.18574660534121248, 0.04127702340915833, 0.1114864353945022, 0.007963316813893014, 0.31056935574182754, 0.573358810600297, 0.08803214713582863, 0.7922893242224578, 0.08803214713582863, 0.12412664183750029, 0.03777767360271748, 0.016190431544021777, 0.723172608966306, 0.09714258926413066, 0.6522969857802925, 0.1449548857289539, 0.1993129678773116, 0.9708549473780272, 0.9585014553542467, 0.3267731057100607, 0.13797086685535895, 0.1234476177126896, 0.159755740569363, 0.2468952354253792, 0.04118919756785893, 0.535459568382166, 0.08237839513571786, 0.2883243829750125, 0.09311569965603153, 0.8845991467322996, 0.060481248955814526, 0.9072187343372179, 0.9809159722211186, 0.9517168720557869, 0.06499156613989461, 0.025996626455957843, 0.8968836127305455, 0.24161625380692073, 0.38831183647540835, 0.06903321537340593, 0.01725830384335148, 0.2761328614936237, 0.9702518009878888, 0.018658688480536322, 0.750617880347317, 0.040942793473490016, 0.013647597824496673, 0.013647597824496673, 0.17741877171845674, 0.08210382812018648, 0.15247853793748917, 0.035187354908651346, 0.7272053347787945, 0.10326925634369534, 0.1239231076124344, 0.013769234179159378, 0.20653851268739068, 0.5576539842559548, 0.7190742000331903, 0.05752593600265523, 0.10546421600486793, 0.11505187200531046, 0.6694265964383457, 0.150856697788923, 0.10371397972988455, 0.0659998052826538, 0.2089017012693225, 0.07833813797599594, 0.44391611519731033, 0.052225425317330626, 0.23501441392798783, 0.07283514620181392, 0.5306560651846443, 0.04162008354389367, 0.18729037594752151, 0.16648033417557467, 0.11213448816678098, 0.5606724408339049, 0.22426897633356196, 0.09344540680565082, 0.973841458830928, 0.07622452093599037, 0.17564780911336914, 0.033141096059126254, 0.5435139753696705, 0.1723336995074565, 0.8448803847312548, 0.10561004809140685, 0.3340048993332741, 0.5566748322221236, 0.05566748322221235, 0.3087805413649048, 0.03216463972551092, 0.1608231986275546, 0.006432927945102184, 0.48246959588266375, 0.01338481099796782, 0.8030886598780692, 0.02676962199593564, 0.16061773197561383, 0.890754479447523, 0.055672154965470184, 0.0802691993803282, 0.6421535950426256, 0.2809421978311487, 0.11448328010051177, 0.8013829607035824, 0.08939937931101964, 0.014899896551836607, 0.0695328505752375, 0.8244609425349589, 0.008014810338962836, 0.977806861353466, 0.016029620677925672, 0.9679235511026498, 0.944041949525992, 0.10581426533791627, 0.8465141227033302, 0.01693151318629864, 0.1806028073205188, 0.005643837728766213, 0.795781119756036, 0.879168886822274, 0.0303161685111129, 0.0606323370222258, 0.0303161685111129, 0.665426366129485, 0.06337393963137954, 0.21124646543793177, 0.05281161635948294, 0.10750596540489347, 0.8839379377735687, 0.8356005346818927, 0.1319369265287199, 0.043978975509573304, 0.95956898382641, 0.9728418626382028, 0.9642150278570704, 0.018192736374661705, 0.813070278728803, 0.0813070278728803, 0.14956344315385833, 0.5982537726154333, 0.2243451647307875, 0.9788966138607569, 0.03427331518391488, 0.9253795099657017, 0.5298881899094405, 0.43354488265317864, 0.9775413755886413, 0.02443853438971603, 0.963716324286264, 0.8829874524701976, 0.01017527031594644, 0.01017527031594644, 0.9666506800149117, 0.01867140375657749, 0.01867140375657749, 0.9522415915854521, 0.03628893997802869, 0.8709345594726885, 0.07257787995605738, 0.679301550979294, 0.01764419612933231, 0.10586517677599387, 0.01764419612933231, 0.17644196129332312, 0.9107215420308677, 0.08374450961203382, 0.5389213649918816, 0.43787360905590383, 0.7185076154256109, 0.17962690385640273, 0.07983417949173455, 0.019958544872933637, 0.15402854892214976, 0.6795377158330136, 0.15402854892214976, 0.08999637571194528, 0.07874682874795214, 0.11249546963993161, 0.7087214587315691, 0.23510515751564642, 0.0097960482298186, 0.08816443406836741, 0.6759273278574834, 0.101784195783583, 0.48347492997201924, 0.08906117131063512, 0.13995326920242662, 0.203568391567166, 0.850405531729346, 0.02657517286654206, 0.07972551859962619, 0.02657517286654206, 0.7631466210938258, 0.13157700363686653, 0.10526160290949321, 0.8151980972016792, 0.1438584877414728, 0.9548560480104672, 0.01103708050956635, 0.9050406017844407, 0.07725956356696445, 0.9625121404126546, 0.49403304298699124, 0.05545268849853983, 0.13611114449641595, 0.04537038149880532, 0.2722222889928319, 0.654400562631096, 0.09348579466158514, 0.28045738398475545, 0.9644803442083105, 0.9826551466910989, 0.9775404779919006, 0.979425046059743, 0.04232087528776214, 0.08464175057552428, 0.04232087528776214, 0.5990031579190949, 0.23113708811008551, 0.9637888326629483, 0.040831326015575646, 0.006805221002595941, 0.9459257193608359, 0.27110172870116056, 0.02891751772812379, 0.050605656024216635, 0.025302828012108317, 0.625341320870677, 0.024703638973465565, 0.09387382809916914, 0.024703638973465565, 0.4249025903436077, 0.4298433181383008, 0.9382182076913024, 0.049379905667963284, 0.9644234592549387, 0.9710407113592762, 0.9548400726376335, 0.09638071415811288, 0.29655604356342424, 0.007413901089085607, 0.5708703838595917, 0.029655604356342426, 0.1841204513613566, 0.5114456982259906, 0.2864095910065547, 0.020457827929039624, 0.906753859346217, 0.04533769296731085, 0.9088158264085263, 0.10907260738091003, 0.08274473663379381, 0.030088995139561387, 0.6845246394250215, 0.09026698541868415, 0.3274130984282541, 0.11631781128372186, 0.0043080670845822904, 0.4609631780503051, 0.09046940877622811, 0.957310429812593, 0.059800572296846155, 0.7774074398590001, 0.059800572296846155, 0.10465100151948077, 0.4380404828592593, 0.4137049004781893, 0.012167791190534981, 0.012167791190534981, 0.12167791190534981, 0.9584830394639211, 0.9740121423729519, 0.03810475855472644, 0.07620951710945288, 0.08891110329436169, 0.8001999296492552, 0.8966654219388248, 0.9422343399082826, 0.0413003752475488, 0.9499086306936223, 0.030404629301018067, 0.060809258602036134, 0.912138879030542, 0.263471902676, 0.7318663963222222, 0.02701787163613608, 0.9456255072647628, 0.6607216029322032, 0.024471170478970485, 0.024471170478970485, 0.26918287526867535, 0.04724611770168004, 0.005905764712710005, 0.005905764712710005, 0.7913724715031407, 0.14764411781775014, 0.8382237888127066, 0.019957709257445395, 0.13970396480211777, 0.7717371720600031, 0.23152115161800094, 0.9785166192716732, 0.7119376615699105, 0.03827621836397368, 0.24496779752943154, 0.05534658416249182, 0.02213863366499673, 0.9187532970973643, 0.5995016145595751, 0.256929263382675, 0.08564308779422501, 0.06265947814054308, 0.02088649271351436, 0.01044324635675718, 0.8511245780757101, 0.0522162317837859, 0.7198346222585151, 0.08638015467102182, 0.04319007733551091, 0.15836361689687334, 0.967370228917424, 0.9164288237754352, 0.05976709720274578, 0.11902053453279939, 0.27304710863406917, 0.09101570287802306, 0.1890326136697402, 0.3290567719436218, 0.7219551350213546, 0.02033676436679872, 0.09151543965059424, 0.08134705746719488, 0.08134705746719488, 0.7707995216063016, 0.06085259381102381, 0.1622735834960635, 0.016561430505068014, 0.016561430505068014, 0.9605629692939449, 0.11099274042775346, 0.05549637021387673, 0.006166263357097415, 0.8201130264939561, 0.006166263357097415, 0.9106004518177349, 0.06280003115984378, 0.12433652696052164, 0.8081874252433906, 0.6779919036573346, 0.30618989197428015, 0.08659137605634287, 0.02474039315895511, 0.6803608118712655, 0.20410824356137963, 0.07568882483940968, 0.06727895541280861, 0.008409869426601076, 0.7863227913872006, 0.06307402069950807, 0.017947424076892076, 0.08973712038446038, 0.8913887291523065, 0.03356432554561258, 0.06712865109122516, 0.5370292087298013, 0.36920758100173834, 0.40659767221454596, 0.17202209209076944, 0.13292616207014002, 0.05473430202888119, 0.23457558012377652, 0.011659681834469093, 0.9677535922609347, 0.023319363668938185, 0.9930440210287045, 0.034276837783672, 0.788367269024456, 0.068553675567344, 0.137107351134688, 0.1197769796971633, 0.0998141497476361, 0.43918225888959883, 0.05988848984858165, 0.27947961929338105, 0.07093461666325218, 0.017733654165813045, 0.010640192499487828, 0.7554536674636357, 0.14541596415966695, 0.02333829968409137, 0.9568702870477462, 0.7155414452600211, 0.15900921005778246, 0.11925690754333684, 0.9724836029147454, 0.832609604788107, 0.1575207360409932, 0.8578300652731571, 0.009974768200850664, 0.04987384100425332, 0.07979814560680532, 0.6853836773552892, 0.19436253536941037, 0.1125256783717639, 0.1690585825213847, 0.021132322815173087, 0.2676760889921924, 0.5423962855894425, 0.09850017492620253, 0.024625043731550632, 0.09850017492620253, 0.024625043731550632, 0.7469596598570358, 0.3205744063065061, 0.022898171879036148, 0.007632723959678716, 0.6564142605323695, 0.9858879907825602, 0.010060081538597552, 0.0795062063848945, 0.5565434446942615, 0.34452689433454287, 0.6055725056653023, 0.37266000348633993, 0.9334090532984344, 0.051856058516579685, 0.14123259554050857, 0.7061629777025429, 0.14123259554050857, 0.9951491685730016, 0.3283888212234982, 0.023456344373107015, 0.6333212980738894, 0.43043578353970086, 0.0886958584263626, 0.37565304745282985, 0.10695677045531961, 0.9963802835866392, 0.9806626866300447, 0.13917534084751848, 0.06494849239550862, 0.03247424619775431, 0.1948454771865259, 0.5659797194465752, 0.08767902968425803, 0.9018414481809398, 0.9219853464893362, 0.05762408415558351, 0.9685999611225268, 0.019769805863102615, 0.006589935287700872, 0.013179870575401743, 0.8962311991273185, 0.05930941758930784, 0.12116189587234306, 0.4173354191158483, 0.45772271773996265, 0.4462483358996955, 0.03880420312171265, 0.3686399296562702, 0.1552168124868506, 0.04728353398322817, 0.04728353398322817, 0.003940294498602347, 0.8668647896925163, 0.03152235598881878, 0.8199655388428967, 0.048233266990758625, 0.09646653398151725, 0.048233266990758625, 0.90675943938407, 0.06045062929227133, 0.5065907265481364, 0.009210740482693389, 0.3407973978596554, 0.13816110724040084, 0.05410677172839957, 0.009017795288066595, 0.09919574816873254, 0.8296371665021267, 0.15521860022868206, 0.0340723756599546, 0.056787292766591, 0.454298342132728, 0.29907974190404596, 0.016681796959815993, 0.6339082844730077, 0.016681796959815993, 0.15013617263834395, 0.16681796959815992, 0.8047660817739429, 0.15328877748075104, 0.03832219437018776, 0.11099382648084448, 0.30655437789947526, 0.02642710154305821, 0.4386898856147663, 0.12156466709806776, 0.05812755729558464, 0.09300409167293543, 0.03487653437735079, 0.8021602906790681, 0.8206013492309457, 0.15630501890113252, 0.9679239268287045, 0.9852286727456339, 0.22744580887650492, 0.011970832046131839, 0.7541624189063059, 0.1416241246403499, 0.1416241246403499, 0.6609125816549662, 0.9170800871633639, 0.03987304726797234, 0.5225385259671539, 0.006742432593124566, 0.11125013778655535, 0.3607201437321643, 0.14325027764285997, 0.7162513882142999, 0.30414548005256564, 0.07710730480205889, 0.004283739155669939, 0.02998617408968957, 0.5868722643267815, 0.03670376936976302, 0.03670376936976302, 0.9175942342440756, 0.9806611628802021, 0.9806636936524669, 0.7398448765015354, 0.07398448765015354, 0.13739976277885657, 0.02113842504290101, 0.03170763756435152, 0.34475690219193333, 0.646419191609875, 0.40048379801700557, 0.054386688619593344, 0.009888488839926064, 0.039553955359704254, 0.49442444199630314, 0.11286449758635195, 0.6771869855181117, 0.2257289951727039, 0.06307876614205485, 0.9146421090597953, 0.9837433810513272, 0.11348094508402755, 0.11348094508402755, 0.6808856705041654, 0.11348094508402755, 0.027140944693493638, 0.027140944693493638, 0.9227921195787837, 0.9728335941809638, 0.30940990909573823, 0.034378878788415355, 0.2291925252561024, 0.02291925252561024, 0.4010869191981792, 0.9861586764014416, 0.93852869781085, 0.9582220632991134, 0.07517331926201898, 0.02505777308733966, 0.9020798311442277, 0.22356612027042394, 0.5589153006760599, 0.11178306013521197, 0.07586016824724934, 0.5310211777307453, 0.015172033649449867, 0.2882686393395475, 0.09103220189669921, 0.1269428324679263, 0.14104759163102923, 0.04701586387700974, 0.6018030576257246, 0.07992696859091655, 0.035967682404011325, 0.3237091416361019, 0.5035475536561586, 0.1438707296160453, 0.029201808380875535, 0.04866968063479256, 0.029201808380875535, 0.895522123680183, 0.2638668416599991, 0.0012565087698095194, 0.005026035079238078, 0.7237490514102832, 0.006282543849047598, 0.3418607451029884, 0.05794249916999804, 0.5504537421149813, 0.052148249252998234, 0.09704332745238907, 0.05660860768056029, 0.8410421712540386, 0.9700326033445205, 0.8004117732519404, 0.19522238371998546, 0.8952600021678313, 0.09423789496503487, 0.15007633481796107, 0.11618813018164727, 0.029047032545411817, 0.07745875345443151, 0.629352371817256, 0.20112802253177098, 0.21295908268069866, 0.4081715751380058, 0.17746590223391556, 0.10040938293155163, 0.007723798687042434, 0.030895194748169735, 0.8650654529487526, 0.9861152068893678, 0.14701772113123038, 0.049005907043743455, 0.6370767915686649, 0.09801181408748691, 0.049005907043743455, 0.12434076581359589, 0.8082149777883733, 0.10480538481314394, 0.6113647447433397, 0.24454589789733586, 0.03493512827104798, 0.1660951467419008, 0.6920631114245867, 0.13841262228491732, 0.9644268501336153, 0.04395674161412023, 0.17094288405491198, 0.2490882024800146, 0.33700168570825506, 0.20024737846432547, 0.013556547596001329, 0.027113095192002657, 0.948958331720093, 0.08814900678234623, 0.7933410610411161, 0.7013142878642642, 0.03862310570846673, 0.0020327950372877224, 0.026426335484740392, 0.23173863425080035, 0.2951386747675723, 0.07452996837564956, 0.03875558355533777, 0.014905993675129911, 0.5723901571249886, 0.01656258439666265, 0.9771924794030963, 0.7326362657942017, 0.08997287474665634, 0.025706535641901816, 0.12853267820950906, 0.025706535641901816, 0.9852340599410081, 0.9724801259004199, 0.19665685874294983, 0.28093836963278546, 0.056187673926557095, 0.03511729620409818, 0.42843101368999786, 0.5872355733281551, 0.3670222333300969, 0.005646495897386107, 0.03387897538431664, 0.9440323397643715, 0.016891761513697198, 0.016891761513697198, 0.9459386447670431, 0.15781826310700497, 0.7496367497582737, 0.039454565776751244, 0.9584694553155272, 0.8544329320308065, 0.07120274433590054, 0.07444047003887733, 0.022332141011663198, 0.8114011234237628, 0.08932856404665279, 0.021413744434016106, 0.014275829622677405, 0.007137914811338702, 0.9065151810400152, 0.04996540367937091, 0.02492310957582668, 0.016615406383884455, 0.02492310957582668, 0.8889242415378183, 0.041538515959711135, 0.036679134890024334, 0.9536575071406327, 0.907772591323985, 0.06484089938028464, 0.09560989936581277, 0.052750289305276005, 0.042859610060536756, 0.013187572326319001, 0.7978481257422996, 0.1493108967176132, 0.5972435868704528, 0.22396634507641977, 0.12962602031321468, 0.3103168365073927, 0.047136734659350796, 0.12176989786998954, 0.3928061221612566, 0.05263987642634611, 0.7632782081820186, 0.13159969106586528, 0.05263987642634611, 0.07557769416276859, 0.8313546357904545, 0.9029536711277654, 0.04514768355638826, 0.8989671063661934, 0.04610087724954837, 0.023050438624774187, 0.023050438624774187, 0.13965300238658954, 0.5586120095463581, 0.13965300238658954, 0.9686243325452161, 0.9288890621234839, 0.05358975358404714, 0.9728426403608648, 0.9582342764695726, 0.8899448651167965, 0.04944138139537758, 0.04944138139537758, 0.9844084799646314, 0.08962252161696353, 0.01378808024876362, 0.08962252161696353, 0.18613908335830887, 0.6204636111943629, 0.9919573824654617, 0.09213290147709201, 0.23954554384043922, 0.0184265802954184, 0.3501050256129496, 0.30096747815850056, 0.09494238539568808, 0.1460652083010586, 0.03651630207526465, 0.5806092029967079, 0.1424135780935321, 0.09517116794949958, 0.5393032850471643, 0.34896094914816517, 0.23220675178005137, 0.026387130884096745, 0.5646846009196703, 0.17943249001185788, 0.029174212417448442, 0.0072935531043621105, 0.014587106208724221, 0.9481619035670744, 0.9269888202280636, 0.057144985762711195, 0.9143197722033791, 0.9901876356558686, 0.10430577597386287, 0.21247472883564658, 0.03476859199128762, 0.3592754505766388, 0.29360144348198436, 0.07845748928232624, 0.007845748928232624, 0.05884311696174468, 0.3569815762345844, 0.4942821824786553, 0.1258352917190912, 0.6291764585954559, 0.1258352917190912, 0.9775409515908197, 0.007349868820631248, 0.02204960646189374, 0.8966839961170122, 0.06614881938568123], \"Term\": [\"000\", \"000\", \"000\", \"000\", \"000\", \"1960\", \"1960\", \"1960\", \"1960\", \"25\", \"25\", \"25\", \"25\", \"25\", \"30\", \"30\", \"30\", \"30\", \"30\", \"33\", \"33\", \"36\", \"36\", \"36\", \"act\", \"act\", \"act\", \"act\", \"act\", \"activities\", \"activities\", \"activities\", \"activities\", \"activities\", \"administration\", \"administration\", \"administration\", \"administration\", \"advisory\", \"advisory\", \"af\", \"af\", \"af\", \"aircraft\", \"aircraft\", \"aircraft\", \"allocation\", \"aluminum\", \"aluminum\", \"american\", \"american\", \"american\", \"american\", \"american\", \"anne\", \"appeal\", \"appeal\", \"appeal\", \"appeal\", \"appeal\", \"art\", \"art\", \"art\", \"aug\", \"aug\", \"automobile\", \"automobile\", \"available\", \"available\", \"available\", \"available\", \"away\", \"away\", \"away\", \"away\", \"away\", \"baby\", \"ball\", \"bankers\", \"bargaining\", \"bars\", \"bars\", \"bars\", \"baseball\", \"bill\", \"bill\", \"bill\", \"blocks\", \"blocks\", \"blocks\", \"board\", \"board\", \"board\", \"board\", \"board\", \"boats\", \"bond\", \"boy\", \"boy\", \"boys\", \"brown\", \"brown\", \"brown\", \"brown\", \"builder\", \"builder\", \"business\", \"business\", \"business\", \"business\", \"business\", \"came\", \"came\", \"came\", \"came\", \"came\", \"castro\", \"castro\", \"cattle\", \"cattle\", \"chemical\", \"chemical\", \"city\", \"city\", \"city\", \"city\", \"city\", \"clay\", \"clay\", \"clay\", \"clay\", \"clay\", \"clothes\", \"collection\", \"collection\", \"collection\", \"college\", \"college\", \"college\", \"college\", \"combine\", \"combine\", \"combine\", \"come\", \"come\", \"come\", \"come\", \"come\", \"committee\", \"committee\", \"committee\", \"commodities\", \"communism\", \"company\", \"company\", \"company\", \"company\", \"company\", \"concerns\", \"concerns\", \"concerns\", \"concerns\", \"concrete\", \"concrete\", \"conduct\", \"conduct\", \"congo\", \"corp\", \"corps\", \"corps\", \"corps\", \"cost\", \"cost\", \"cost\", \"cost\", \"cost\", \"couldn\", \"couldn\", \"council\", \"council\", \"council\", \"council\", \"council\", \"countries\", \"countries\", \"countries\", \"countries\", \"country\", \"country\", \"country\", \"country\", \"country\", \"county\", \"county\", \"county\", \"county\", \"court\", \"court\", \"court\", \"court\", \"credit\", \"credit\", \"credit\", \"credit\", \"credit\", \"cut\", \"cut\", \"cut\", \"cut\", \"cut\", \"daily\", \"daily\", \"daily\", \"daily\", \"daughter\", \"day\", \"day\", \"day\", \"day\", \"day\", \"degrees\", \"degrees\", \"denied\", \"denied\", \"denied\", \"department\", \"department\", \"department\", \"department\", \"department\", \"design\", \"design\", \"design\", \"design\", \"designer\", \"designer\", \"destroy\", \"destroy\", \"destroy\", \"destruction\", \"destruction\", \"development\", \"development\", \"development\", \"development\", \"didn\", \"didn\", \"didn\", \"dinner\", \"disclosed\", \"discovery\", \"discovery\", \"don\", \"don\", \"don\", \"don\", \"drill\", \"drill\", \"drill\", \"drill\", \"east\", \"east\", \"east\", \"east\", \"economic\", \"economic\", \"edges\", \"edges\", \"edges\", \"eighty\", \"el\", \"election\", \"election\", \"electricity\", \"electricity\", \"enemy\", \"enemy\", \"enemy\", \"engineering\", \"engineers\", \"engineers\", \"entrance\", \"entrance\", \"evening\", \"evening\", \"exceed\", \"experimental\", \"eyes\", \"eyes\", \"eyes\", \"faculty\", \"faculty\", \"faculty\", \"fallout\", \"fallout\", \"fallout\", \"federal\", \"federal\", \"federal\", \"federal\", \"federal\", \"feed\", \"feed\", \"fig\", \"fig\", \"file\", \"file\", \"file\", \"file\", \"fiscal\", \"fiscal\", \"fiscal\", \"forces\", \"forces\", \"forces\", \"forces\", \"foreign\", \"foreign\", \"foreign\", \"foreign\", \"form\", \"form\", \"form\", \"form\", \"form\", \"formula\", \"formula\", \"formula\", \"formula\", \"frame\", \"frame\", \"frame\", \"frames\", \"frames\", \"fundamental\", \"game\", \"game\", \"game\", \"games\", \"general\", \"general\", \"general\", \"general\", \"general\", \"generations\", \"generations\", \"generations\", \"geneva\", \"girl\", \"girls\", \"god\", \"good\", \"good\", \"good\", \"good\", \"good\", \"gop\", \"got\", \"got\", \"got\", \"government\", \"government\", \"government\", \"government\", \"government\", \"great\", \"great\", \"great\", \"great\", \"great\", \"gun\", \"gun\", \"hadn\", \"hair\", \"hammarskjold\", \"head\", \"head\", \"head\", \"head\", \"head\", \"hearing\", \"hearing\", \"hearing\", \"hearing\", \"heating\", \"heating\", \"heavier\", \"home\", \"home\", \"home\", \"home\", \"home\", \"house\", \"house\", \"house\", \"house\", \"house\", \"hughes\", \"inch\", \"inch\", \"inch\", \"inch\", \"income\", \"income\", \"income\", \"income\", \"income\", \"independence\", \"india\", \"industrial\", \"industrial\", \"industrial\", \"industrial\", \"insert\", \"installation\", \"institution\", \"institution\", \"institutions\", \"institutions\", \"institutions\", \"insurance\", \"insurance\", \"interference\", \"interference\", \"interior\", \"interior\", \"interior\", \"interior\", \"john\", \"john\", \"john\", \"john\", \"john\", \"judge\", \"judge\", \"judge\", \"junior\", \"junior\", \"katanga\", \"kennedy\", \"kennedy\", \"kennedy\", \"knew\", \"knew\", \"knew\", \"knight\", \"knight\", \"knight\", \"know\", \"know\", \"know\", \"know\", \"know\", \"labor\", \"labor\", \"labor\", \"labor\", \"lands\", \"laos\", \"laos\", \"large\", \"large\", \"large\", \"large\", \"large\", \"law\", \"law\", \"law\", \"law\", \"law\", \"laws\", \"laws\", \"laws\", \"league\", \"league\", \"league\", \"left\", \"left\", \"left\", \"left\", \"left\", \"legislature\", \"legislature\", \"lever\", \"lever\", \"library\", \"library\", \"life\", \"life\", \"life\", \"life\", \"little\", \"little\", \"little\", \"little\", \"little\", \"ll\", \"ll\", \"ll\", \"loans\", \"loans\", \"loans\", \"loans\", \"local\", \"local\", \"local\", \"local\", \"local\", \"looked\", \"looked\", \"looked\", \"love\", \"lumber\", \"lumber\", \"lumber\", \"lumber\", \"machine\", \"machine\", \"machine\", \"machine\", \"machine\", \"man\", \"man\", \"man\", \"man\", \"man\", \"marketing\", \"marketing\", \"materials\", \"materials\", \"materials\", \"maybe\", \"mayor\", \"mayor\", \"medical\", \"medical\", \"medical\", \"medical\", \"meeting\", \"meeting\", \"meeting\", \"members\", \"members\", \"members\", \"members\", \"military\", \"military\", \"military\", \"military\", \"military\", \"million\", \"million\", \"million\", \"million\", \"miss\", \"miss\", \"missile\", \"missile\", \"missile\", \"missiles\", \"missiles\", \"mitchell\", \"mitchell\", \"mobile\", \"mobile\", \"mobile\", \"mother\", \"motors\", \"motors\", \"motors\", \"mr\", \"mr\", \"mr\", \"mr\", \"mrs\", \"musical\", \"national\", \"national\", \"national\", \"national\", \"national\", \"nations\", \"nations\", \"negotiations\", \"negotiations\", \"neutral\", \"night\", \"night\", \"night\", \"night\", \"night\", \"nuclear\", \"nuclear\", \"nuclear\", \"officer\", \"officer\", \"officer\", \"officer\", \"old\", \"old\", \"old\", \"old\", \"old\", \"outdoor\", \"outdoor\", \"outdoor\", \"outdoor\", \"panels\", \"panels\", \"party\", \"party\", \"party\", \"party\", \"peace\", \"peace\", \"peace\", \"peace\", \"people\", \"people\", \"people\", \"people\", \"people\", \"piece\", \"piece\", \"piece\", \"piece\", \"piece\", \"pieces\", \"pieces\", \"pieces\", \"place\", \"place\", \"place\", \"place\", \"place\", \"planning\", \"planning\", \"planning\", \"planning\", \"plastic\", \"plastic\", \"played\", \"player\", \"political\", \"political\", \"political\", \"precision\", \"precision\", \"precision\", \"premier\", \"premier\", \"president\", \"president\", \"president\", \"president\", \"proceedings\", \"proceedings\", \"program\", \"program\", \"program\", \"program\", \"program\", \"projects\", \"projects\", \"projects\", \"promote\", \"promotion\", \"property\", \"property\", \"property\", \"property\", \"property\", \"protection\", \"protection\", \"public\", \"public\", \"public\", \"public\", \"public\", \"radar\", \"radar\", \"radar\", \"radiation\", \"radiation\", \"rayburn\", \"recommendation\", \"recommendation\", \"recommendation\", \"recommendation\", \"recreation\", \"recreation\", \"recreation\", \"rep\", \"report\", \"report\", \"report\", \"report\", \"report\", \"republican\", \"republicans\", \"residents\", \"resources\", \"resources\", \"resources\", \"resume\", \"resume\", \"resume\", \"return\", \"return\", \"return\", \"return\", \"return\", \"right\", \"right\", \"right\", \"right\", \"right\", \"roof\", \"roof\", \"roof\", \"roof\", \"room\", \"room\", \"room\", \"room\", \"said\", \"said\", \"said\", \"said\", \"said\", \"school\", \"school\", \"school\", \"school\", \"secretary\", \"secretary\", \"secretary\", \"sen\", \"senate\", \"senate\", \"senator\", \"senator\", \"service\", \"service\", \"service\", \"service\", \"service\", \"set\", \"set\", \"set\", \"set\", \"shall\", \"shall\", \"shall\", \"shall\", \"shelter\", \"shelters\", \"shelters\", \"shelters\", \"shelters\", \"shelters\", \"shipping\", \"shipping\", \"sign\", \"sign\", \"sign\", \"sign\", \"signs\", \"signs\", \"signs\", \"sitting\", \"small\", \"small\", \"small\", \"small\", \"small\", \"son\", \"son\", \"son\", \"spots\", \"spots\", \"state\", \"state\", \"state\", \"state\", \"state\", \"states\", \"states\", \"states\", \"states\", \"states\", \"stations\", \"stations\", \"stock\", \"stock\", \"stock\", \"stock\", \"stock\", \"stood\", \"stopped\", \"system\", \"system\", \"system\", \"system\", \"system\", \"tax\", \"tax\", \"tax\", \"tax\", \"taxation\", \"technical\", \"technical\", \"technical\", \"tests\", \"tests\", \"tests\", \"textile\", \"thickness\", \"thickness\", \"think\", \"think\", \"think\", \"think\", \"thought\", \"thought\", \"thought\", \"thought\", \"thought\", \"took\", \"took\", \"took\", \"took\", \"took\", \"troops\", \"troops\", \"trucks\", \"trucks\", \"united\", \"united\", \"united\", \"united\", \"united\", \"universal\", \"universal\", \"universal\", \"use\", \"use\", \"use\", \"use\", \"use\", \"vacation\", \"vacation\", \"vacation\", \"vacation\", \"varying\", \"varying\", \"vehicle\", \"vehicle\", \"vehicles\", \"vehicles\", \"vehicles\", \"vehicles\", \"vessels\", \"vessels\", \"vessels\", \"vocational\", \"vote\", \"vote\", \"voters\", \"voting\", \"wagner\", \"wagner\", \"wagner\", \"walked\", \"war\", \"war\", \"war\", \"war\", \"war\", \"wasn\", \"water\", \"water\", \"water\", \"water\", \"water\", \"way\", \"way\", \"way\", \"way\", \"way\", \"weapons\", \"weapons\", \"weapons\", \"week\", \"week\", \"week\", \"week\", \"went\", \"went\", \"went\", \"went\", \"width\", \"wildlife\", \"wildlife\", \"woman\", \"work\", \"work\", \"work\", \"work\", \"work\", \"world\", \"world\", \"world\", \"world\", \"world\", \"worthy\", \"worthy\", \"worthy\", \"yes\", \"young\", \"young\", \"young\", \"young\"]}, \"R\": 30, \"lambda.step\": 0.01, \"plot.opts\": {\"xlab\": \"PC1\", \"ylab\": \"PC2\"}, \"topic.order\": [1, 2, 3, 4, 5]};\n",
              "\n",
              "function LDAvis_load_lib(url, callback){\n",
              "  var s = document.createElement('script');\n",
              "  s.src = url;\n",
              "  s.async = true;\n",
              "  s.onreadystatechange = s.onload = callback;\n",
              "  s.onerror = function(){console.warn(\"failed to load library \" + url);};\n",
              "  document.getElementsByTagName(\"head\")[0].appendChild(s);\n",
              "}\n",
              "\n",
              "if(typeof(LDAvis) !== \"undefined\"){\n",
              "   // already loaded: just create the visualization\n",
              "   !function(LDAvis){\n",
              "       new LDAvis(\"#\" + \"ldavis_el132191399290608333449529942126\", ldavis_el132191399290608333449529942126_data);\n",
              "   }(LDAvis);\n",
              "}else if(typeof define === \"function\" && define.amd){\n",
              "   // require.js is available: use it to load d3/LDAvis\n",
              "   require.config({paths: {d3: \"https://d3js.org/d3.v5\"}});\n",
              "   require([\"d3\"], function(d3){\n",
              "      window.d3 = d3;\n",
              "      LDAvis_load_lib(\"https://cdn.jsdelivr.net/gh/bmabey/pyLDAvis@3.4.0/pyLDAvis/js/ldavis.v3.0.0.js\", function(){\n",
              "        new LDAvis(\"#\" + \"ldavis_el132191399290608333449529942126\", ldavis_el132191399290608333449529942126_data);\n",
              "      });\n",
              "    });\n",
              "}else{\n",
              "    // require.js not available: dynamically load d3 & LDAvis\n",
              "    LDAvis_load_lib(\"https://d3js.org/d3.v5.js\", function(){\n",
              "         LDAvis_load_lib(\"https://cdn.jsdelivr.net/gh/bmabey/pyLDAvis@3.4.0/pyLDAvis/js/ldavis.v3.0.0.js\", function(){\n",
              "                 new LDAvis(\"#\" + \"ldavis_el132191399290608333449529942126\", ldavis_el132191399290608333449529942126_data);\n",
              "            })\n",
              "         });\n",
              "}\n",
              "</script>"
            ]
          },
          "metadata": {},
          "execution_count": 21
        }
      ],
      "source": [
        "pyLDAvis.display(lda_display)"
      ]
    },
    {
      "cell_type": "markdown",
      "id": "a3d14c87",
      "metadata": {
        "id": "a3d14c87"
      },
      "source": [
        "Q: What conclusions do you draw from the visualization above? Please address the principal component scatterplot and the salient terms graph.\n",
        "\n",
        "A: Topic 3 has the lowest marginal topic distribution wheras topic 4 has the largest marginal topic distribution. Topic 3 salient words seems to be related to war or some sort of nuclear crisis. There are top salient words such as radiation, nuclear, fallout, missile, weapons, tests, aircraft, brown, and shelter. Topic 4 has the most popular sailent word said there is a conversation going on, there are old and young people, and words seem to be related to people living at home and leaving the home. Topic 1 and 5 seem to be related to politics and government. Lastly, topic 2 seems to be related to a bill or tax policy. \n"
      ]
    }
  ],
  "metadata": {
    "kernelspec": {
      "display_name": "Python 3 (ipykernel)",
      "language": "python",
      "name": "python3"
    },
    "language_info": {
      "codemirror_mode": {
        "name": "ipython",
        "version": 3
      },
      "file_extension": ".py",
      "mimetype": "text/x-python",
      "name": "python",
      "nbconvert_exporter": "python",
      "pygments_lexer": "ipython3",
      "version": "3.9.16"
    },
    "colab": {
      "provenance": []
    }
  },
  "nbformat": 4,
  "nbformat_minor": 5
}